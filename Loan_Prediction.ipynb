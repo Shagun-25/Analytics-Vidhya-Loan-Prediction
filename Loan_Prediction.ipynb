{
  "nbformat": 4,
  "nbformat_minor": 0,
  "metadata": {
    "colab": {
      "name": "Loan Prediction.ipynb",
      "provenance": [],
      "collapsed_sections": [
        "f7lIGeQTqcBT",
        "ajRXHrYPItqy"
      ],
      "toc_visible": true
    },
    "kernelspec": {
      "name": "python3",
      "display_name": "Python 3"
    }
  },
  "cells": [
    {
      "cell_type": "markdown",
      "metadata": {
        "id": "fMoYllUmJNwG"
      },
      "source": [
        "#Loan Prediction Challenge"
      ]
    },
    {
      "cell_type": "code",
      "metadata": {
        "id": "_nldyS3RePSf"
      },
      "source": [
        "import pandas as pd\n",
        "import numpy as np\n",
        "from sklearn.linear_model import LogisticRegression\n",
        "from sklearn.model_selection import train_test_split\n",
        "from sklearn.metrics import accuracy_score\n",
        "import matplotlib.pyplot as plt\n",
        "import seaborn as sns"
      ],
      "execution_count": null,
      "outputs": []
    },
    {
      "cell_type": "code",
      "metadata": {
        "id": "c4vVmg6Me0Zk"
      },
      "source": [
        "train = pd.read_csv('/content/train_ctrUa4K.csv')\n",
        "test = pd.read_csv('/content/test_lAUu6dG.csv')"
      ],
      "execution_count": null,
      "outputs": []
    },
    {
      "cell_type": "code",
      "metadata": {
        "colab": {
          "base_uri": "https://localhost:8080/"
        },
        "id": "nVj3ilQPvMkZ",
        "outputId": "b014088e-86d3-4518-cde1-921e47190293"
      },
      "source": [
        "train.shape, test.shape"
      ],
      "execution_count": null,
      "outputs": [
        {
          "output_type": "execute_result",
          "data": {
            "text/plain": [
              "((614, 13), (367, 12))"
            ]
          },
          "metadata": {
            "tags": []
          },
          "execution_count": 3
        }
      ]
    },
    {
      "cell_type": "code",
      "metadata": {
        "colab": {
          "base_uri": "https://localhost:8080/",
          "height": 227
        },
        "id": "5LHE91XRe6Qc",
        "outputId": "623792aa-6a1f-4bb5-ad29-9f264c88f88d"
      },
      "source": [
        "train.head()"
      ],
      "execution_count": null,
      "outputs": [
        {
          "output_type": "execute_result",
          "data": {
            "text/html": [
              "<div>\n",
              "<style scoped>\n",
              "    .dataframe tbody tr th:only-of-type {\n",
              "        vertical-align: middle;\n",
              "    }\n",
              "\n",
              "    .dataframe tbody tr th {\n",
              "        vertical-align: top;\n",
              "    }\n",
              "\n",
              "    .dataframe thead th {\n",
              "        text-align: right;\n",
              "    }\n",
              "</style>\n",
              "<table border=\"1\" class=\"dataframe\">\n",
              "  <thead>\n",
              "    <tr style=\"text-align: right;\">\n",
              "      <th></th>\n",
              "      <th>Loan_ID</th>\n",
              "      <th>Gender</th>\n",
              "      <th>Married</th>\n",
              "      <th>Dependents</th>\n",
              "      <th>Education</th>\n",
              "      <th>Self_Employed</th>\n",
              "      <th>ApplicantIncome</th>\n",
              "      <th>CoapplicantIncome</th>\n",
              "      <th>LoanAmount</th>\n",
              "      <th>Loan_Amount_Term</th>\n",
              "      <th>Credit_History</th>\n",
              "      <th>Property_Area</th>\n",
              "      <th>Loan_Status</th>\n",
              "    </tr>\n",
              "  </thead>\n",
              "  <tbody>\n",
              "    <tr>\n",
              "      <th>0</th>\n",
              "      <td>LP001002</td>\n",
              "      <td>Male</td>\n",
              "      <td>No</td>\n",
              "      <td>0</td>\n",
              "      <td>Graduate</td>\n",
              "      <td>No</td>\n",
              "      <td>5849</td>\n",
              "      <td>0.0</td>\n",
              "      <td>NaN</td>\n",
              "      <td>360.0</td>\n",
              "      <td>1.0</td>\n",
              "      <td>Urban</td>\n",
              "      <td>Y</td>\n",
              "    </tr>\n",
              "    <tr>\n",
              "      <th>1</th>\n",
              "      <td>LP001003</td>\n",
              "      <td>Male</td>\n",
              "      <td>Yes</td>\n",
              "      <td>1</td>\n",
              "      <td>Graduate</td>\n",
              "      <td>No</td>\n",
              "      <td>4583</td>\n",
              "      <td>1508.0</td>\n",
              "      <td>128.0</td>\n",
              "      <td>360.0</td>\n",
              "      <td>1.0</td>\n",
              "      <td>Rural</td>\n",
              "      <td>N</td>\n",
              "    </tr>\n",
              "    <tr>\n",
              "      <th>2</th>\n",
              "      <td>LP001005</td>\n",
              "      <td>Male</td>\n",
              "      <td>Yes</td>\n",
              "      <td>0</td>\n",
              "      <td>Graduate</td>\n",
              "      <td>Yes</td>\n",
              "      <td>3000</td>\n",
              "      <td>0.0</td>\n",
              "      <td>66.0</td>\n",
              "      <td>360.0</td>\n",
              "      <td>1.0</td>\n",
              "      <td>Urban</td>\n",
              "      <td>Y</td>\n",
              "    </tr>\n",
              "    <tr>\n",
              "      <th>3</th>\n",
              "      <td>LP001006</td>\n",
              "      <td>Male</td>\n",
              "      <td>Yes</td>\n",
              "      <td>0</td>\n",
              "      <td>Not Graduate</td>\n",
              "      <td>No</td>\n",
              "      <td>2583</td>\n",
              "      <td>2358.0</td>\n",
              "      <td>120.0</td>\n",
              "      <td>360.0</td>\n",
              "      <td>1.0</td>\n",
              "      <td>Urban</td>\n",
              "      <td>Y</td>\n",
              "    </tr>\n",
              "    <tr>\n",
              "      <th>4</th>\n",
              "      <td>LP001008</td>\n",
              "      <td>Male</td>\n",
              "      <td>No</td>\n",
              "      <td>0</td>\n",
              "      <td>Graduate</td>\n",
              "      <td>No</td>\n",
              "      <td>6000</td>\n",
              "      <td>0.0</td>\n",
              "      <td>141.0</td>\n",
              "      <td>360.0</td>\n",
              "      <td>1.0</td>\n",
              "      <td>Urban</td>\n",
              "      <td>Y</td>\n",
              "    </tr>\n",
              "  </tbody>\n",
              "</table>\n",
              "</div>"
            ],
            "text/plain": [
              "    Loan_ID Gender Married  ... Credit_History Property_Area Loan_Status\n",
              "0  LP001002   Male      No  ...            1.0         Urban           Y\n",
              "1  LP001003   Male     Yes  ...            1.0         Rural           N\n",
              "2  LP001005   Male     Yes  ...            1.0         Urban           Y\n",
              "3  LP001006   Male     Yes  ...            1.0         Urban           Y\n",
              "4  LP001008   Male      No  ...            1.0         Urban           Y\n",
              "\n",
              "[5 rows x 13 columns]"
            ]
          },
          "metadata": {
            "tags": []
          },
          "execution_count": 4
        }
      ]
    },
    {
      "cell_type": "code",
      "metadata": {
        "colab": {
          "base_uri": "https://localhost:8080/"
        },
        "id": "WIJWZfCvQULa",
        "outputId": "13ee3aca-2d98-437e-a4f6-85412ed8d50d"
      },
      "source": [
        "train.nunique()"
      ],
      "execution_count": null,
      "outputs": [
        {
          "output_type": "execute_result",
          "data": {
            "text/plain": [
              "Loan_ID              614\n",
              "Gender                 2\n",
              "Married                2\n",
              "Dependents             4\n",
              "Education              2\n",
              "Self_Employed          2\n",
              "ApplicantIncome      505\n",
              "CoapplicantIncome    287\n",
              "LoanAmount           203\n",
              "Loan_Amount_Term      10\n",
              "Credit_History         2\n",
              "Property_Area          3\n",
              "Loan_Status            2\n",
              "dtype: int64"
            ]
          },
          "metadata": {
            "tags": []
          },
          "execution_count": 5
        }
      ]
    },
    {
      "cell_type": "code",
      "metadata": {
        "id": "U0ZN_MZ_Qai7",
        "colab": {
          "base_uri": "https://localhost:8080/"
        },
        "outputId": "4dae9c87-150e-401d-e857-c2649d1fb72a"
      },
      "source": [
        "train['Loan_Status'][train['Loan_Status'] == 'Y'] = 1\n",
        "train['Loan_Status'][train['Loan_Status'] == 'N'] = 0"
      ],
      "execution_count": null,
      "outputs": [
        {
          "output_type": "stream",
          "text": [
            "/usr/local/lib/python3.6/dist-packages/ipykernel_launcher.py:1: SettingWithCopyWarning: \n",
            "A value is trying to be set on a copy of a slice from a DataFrame\n",
            "\n",
            "See the caveats in the documentation: https://pandas.pydata.org/pandas-docs/stable/user_guide/indexing.html#returning-a-view-versus-a-copy\n",
            "  \"\"\"Entry point for launching an IPython kernel.\n",
            "/usr/local/lib/python3.6/dist-packages/ipykernel_launcher.py:2: SettingWithCopyWarning: \n",
            "A value is trying to be set on a copy of a slice from a DataFrame\n",
            "\n",
            "See the caveats in the documentation: https://pandas.pydata.org/pandas-docs/stable/user_guide/indexing.html#returning-a-view-versus-a-copy\n",
            "  \n"
          ],
          "name": "stderr"
        }
      ]
    },
    {
      "cell_type": "code",
      "metadata": {
        "colab": {
          "base_uri": "https://localhost:8080/"
        },
        "id": "NAP5FSV-gKWz",
        "outputId": "0f4aeb5b-f0ec-4bf7-d7af-a0463fe08700"
      },
      "source": [
        "train.info()"
      ],
      "execution_count": null,
      "outputs": [
        {
          "output_type": "stream",
          "text": [
            "<class 'pandas.core.frame.DataFrame'>\n",
            "RangeIndex: 614 entries, 0 to 613\n",
            "Data columns (total 13 columns):\n",
            " #   Column             Non-Null Count  Dtype  \n",
            "---  ------             --------------  -----  \n",
            " 0   Loan_ID            614 non-null    object \n",
            " 1   Gender             601 non-null    object \n",
            " 2   Married            611 non-null    object \n",
            " 3   Dependents         599 non-null    object \n",
            " 4   Education          614 non-null    object \n",
            " 5   Self_Employed      582 non-null    object \n",
            " 6   ApplicantIncome    614 non-null    int64  \n",
            " 7   CoapplicantIncome  614 non-null    float64\n",
            " 8   LoanAmount         592 non-null    float64\n",
            " 9   Loan_Amount_Term   600 non-null    float64\n",
            " 10  Credit_History     564 non-null    float64\n",
            " 11  Property_Area      614 non-null    object \n",
            " 12  Loan_Status        614 non-null    object \n",
            "dtypes: float64(4), int64(1), object(8)\n",
            "memory usage: 62.5+ KB\n"
          ],
          "name": "stdout"
        }
      ]
    },
    {
      "cell_type": "code",
      "metadata": {
        "colab": {
          "base_uri": "https://localhost:8080/"
        },
        "id": "vKSefi96QUUx",
        "outputId": "21e2cc84-1049-4cf4-c619-9bceb814ec8e"
      },
      "source": [
        "train.isna().sum()"
      ],
      "execution_count": null,
      "outputs": [
        {
          "output_type": "execute_result",
          "data": {
            "text/plain": [
              "Loan_ID               0\n",
              "Gender               13\n",
              "Married               3\n",
              "Dependents           15\n",
              "Education             0\n",
              "Self_Employed        32\n",
              "ApplicantIncome       0\n",
              "CoapplicantIncome     0\n",
              "LoanAmount           22\n",
              "Loan_Amount_Term     14\n",
              "Credit_History       50\n",
              "Property_Area         0\n",
              "Loan_Status           0\n",
              "dtype: int64"
            ]
          },
          "metadata": {
            "tags": []
          },
          "execution_count": 8
        }
      ]
    },
    {
      "cell_type": "markdown",
      "metadata": {
        "id": "f7lIGeQTqcBT"
      },
      "source": [
        "## Fixing Outliers"
      ]
    },
    {
      "cell_type": "code",
      "metadata": {
        "colab": {
          "base_uri": "https://localhost:8080/",
          "height": 281
        },
        "id": "rXTXJ-0Sl8Sj",
        "outputId": "7f5565f0-e306-4727-fb9c-f3fd62030897"
      },
      "source": [
        "train.boxplot(column=['ApplicantIncome'])"
      ],
      "execution_count": null,
      "outputs": [
        {
          "output_type": "execute_result",
          "data": {
            "text/plain": [
              "<matplotlib.axes._subplots.AxesSubplot at 0x7f7e8816b128>"
            ]
          },
          "metadata": {
            "tags": []
          },
          "execution_count": 9
        },
        {
          "output_type": "display_data",
          "data": {
            "image/png": "[encoded data removed]",
            "text/plain": [
              "<Figure size 432x288 with 1 Axes>"
            ]
          },
          "metadata": {
            "tags": [],
            "needs_background": "light"
          }
        }
      ]
    },
    {
      "cell_type": "code",
      "metadata": {
        "colab": {
          "base_uri": "https://localhost:8080/",
          "height": 281
        },
        "id": "Q9fs0sOErJ3L",
        "outputId": "631d6225-104b-4fce-8973-aad7273ee18a"
      },
      "source": [
        "train.boxplot(column=['CoapplicantIncome'])"
      ],
      "execution_count": null,
      "outputs": [
        {
          "output_type": "execute_result",
          "data": {
            "text/plain": [
              "<matplotlib.axes._subplots.AxesSubplot at 0x7f7e8816b0f0>"
            ]
          },
          "metadata": {
            "tags": []
          },
          "execution_count": 10
        },
        {
          "output_type": "display_data",
          "data": {
            "image/png": "[encoded data removed]",
            "text/plain": [
              "<Figure size 432x288 with 1 Axes>"
            ]
          },
          "metadata": {
            "tags": [],
            "needs_background": "light"
          }
        }
      ]
    },
    {
      "cell_type": "code",
      "metadata": {
        "colab": {
          "base_uri": "https://localhost:8080/",
          "height": 281
        },
        "id": "e3Z_3ybWrJ3N",
        "outputId": "1aa82f25-b68b-4b1d-d578-caacdff102f9"
      },
      "source": [
        "train.boxplot(column=['LoanAmount'])"
      ],
      "execution_count": null,
      "outputs": [
        {
          "output_type": "execute_result",
          "data": {
            "text/plain": [
              "<matplotlib.axes._subplots.AxesSubplot at 0x7f39c107a048>"
            ]
          },
          "metadata": {
            "tags": []
          },
          "execution_count": 11
        },
        {
          "output_type": "display_data",
          "data": {
            "image/png": "[encoded data removed]",
            "text/plain": [
              "<Figure size 432x288 with 1 Axes>"
            ]
          },
          "metadata": {
            "tags": [],
            "needs_background": "light"
          }
        }
      ]
    },
    {
      "cell_type": "code",
      "metadata": {
        "id": "CQV5Kq6poAJz"
      },
      "source": [
        "Q1 = train['ApplicantIncome'].quantile(0.25)\n",
        "Q3 = train['ApplicantIncome'].quantile(0.75)\n",
        "\n",
        "IQR = Q3 - Q1\n",
        "\n",
        "train = train[~((train['ApplicantIncome'] < (Q1 - 3 * IQR)) | (train['ApplicantIncome'] > (Q3 + 3 * IQR)))]"
      ],
      "execution_count": null,
      "outputs": []
    },
    {
      "cell_type": "code",
      "metadata": {
        "id": "1duTft8uq0NG"
      },
      "source": [
        "Q1 = train['CoapplicantIncome'].quantile(0.25)\n",
        "Q3 = train['CoapplicantIncome'].quantile(0.75)\n",
        "\n",
        "IQR = Q3 - Q1\n",
        "\n",
        "train = train[~((train['CoapplicantIncome'] < (Q1 - 3 * IQR)) | (train['CoapplicantIncome'] > (Q3 + 3 * IQR)))]"
      ],
      "execution_count": null,
      "outputs": []
    },
    {
      "cell_type": "code",
      "metadata": {
        "id": "2UkgRPhmqz_q"
      },
      "source": [
        "Q1 = train['LoanAmount'].quantile(0.25)\n",
        "Q3 = train['LoanAmount'].quantile(0.75)\n",
        "\n",
        "IQR = Q3 - Q1\n",
        "\n",
        "train = train[~((train['LoanAmount'] < (Q1 - 3 * IQR)) | (train['LoanAmount'] > (Q3 + 3 * IQR)))]"
      ],
      "execution_count": null,
      "outputs": []
    },
    {
      "cell_type": "code",
      "metadata": {
        "colab": {
          "base_uri": "https://localhost:8080/"
        },
        "id": "GYkTEMWYuAsV",
        "outputId": "456cc8f5-400a-4da7-994e-97ef255b3e91"
      },
      "source": [
        "train.isna().sum()"
      ],
      "execution_count": null,
      "outputs": [
        {
          "output_type": "execute_result",
          "data": {
            "text/plain": [
              "Loan_ID               0\n",
              "Gender               10\n",
              "Married               3\n",
              "Dependents           15\n",
              "Education             0\n",
              "Self_Employed        29\n",
              "ApplicantIncome       0\n",
              "CoapplicantIncome     0\n",
              "LoanAmount           21\n",
              "Loan_Amount_Term     14\n",
              "Credit_History       47\n",
              "Property_Area         0\n",
              "Loan_Status           0\n",
              "dtype: int64"
            ]
          },
          "metadata": {
            "tags": []
          },
          "execution_count": 15
        }
      ]
    },
    {
      "cell_type": "code",
      "metadata": {
        "colab": {
          "base_uri": "https://localhost:8080/",
          "height": 281
        },
        "id": "NXgAVnVvpTs6",
        "outputId": "b1f06991-4874-4159-ffa0-30034250e258"
      },
      "source": [
        "train.boxplot(column=['ApplicantIncome'])"
      ],
      "execution_count": null,
      "outputs": [
        {
          "output_type": "execute_result",
          "data": {
            "text/plain": [
              "<matplotlib.axes._subplots.AxesSubplot at 0x7f39c0feca20>"
            ]
          },
          "metadata": {
            "tags": []
          },
          "execution_count": 16
        },
        {
          "output_type": "display_data",
          "data": {
            "image/png": "[encoded data removed]",
            "text/plain": [
              "<Figure size 432x288 with 1 Axes>"
            ]
          },
          "metadata": {
            "tags": [],
            "needs_background": "light"
          }
        }
      ]
    },
    {
      "cell_type": "code",
      "metadata": {
        "colab": {
          "base_uri": "https://localhost:8080/",
          "height": 281
        },
        "id": "rlXPaEa3l77I",
        "outputId": "e848a896-7fcb-4e50-84fc-9009580e30a0"
      },
      "source": [
        "train.boxplot(column=['CoapplicantIncome'])"
      ],
      "execution_count": null,
      "outputs": [
        {
          "output_type": "execute_result",
          "data": {
            "text/plain": [
              "<matplotlib.axes._subplots.AxesSubplot at 0x7f39c0548358>"
            ]
          },
          "metadata": {
            "tags": []
          },
          "execution_count": 17
        },
        {
          "output_type": "display_data",
          "data": {
            "image/png": "[encoded data removed]",
            "text/plain": [
              "<Figure size 432x288 with 1 Axes>"
            ]
          },
          "metadata": {
            "tags": [],
            "needs_background": "light"
          }
        }
      ]
    },
    {
      "cell_type": "code",
      "metadata": {
        "colab": {
          "base_uri": "https://localhost:8080/",
          "height": 281
        },
        "id": "qRT2R2QymrSt",
        "outputId": "378cae8d-3eab-450c-88ce-3ab82ac43e45"
      },
      "source": [
        "train.boxplot(column=['LoanAmount'])"
      ],
      "execution_count": null,
      "outputs": [
        {
          "output_type": "execute_result",
          "data": {
            "text/plain": [
              "<matplotlib.axes._subplots.AxesSubplot at 0x7f39c04a6860>"
            ]
          },
          "metadata": {
            "tags": []
          },
          "execution_count": 18
        },
        {
          "output_type": "display_data",
          "data": {
            "image/png": "[encoded data removed]",
            "text/plain": [
              "<Figure size 432x288 with 1 Axes>"
            ]
          },
          "metadata": {
            "tags": [],
            "needs_background": "light"
          }
        }
      ]
    },
    {
      "cell_type": "markdown",
      "metadata": {
        "id": "ajRXHrYPItqy"
      },
      "source": [
        "## Handling Imbalanced Data"
      ]
    },
    {
      "cell_type": "code",
      "metadata": {
        "colab": {
          "base_uri": "https://localhost:8080/"
        },
        "id": "oXDT2RWgHvXM",
        "outputId": "f20afbdb-3b27-404e-cbae-e5e7993595eb"
      },
      "source": [
        "from sklearn.utils import resample\n",
        "train['Loan_Status'].value_counts()"
      ],
      "execution_count": null,
      "outputs": [
        {
          "output_type": "execute_result",
          "data": {
            "text/plain": [
              "1    394\n",
              "0    177\n",
              "Name: Loan_Status, dtype: int64"
            ]
          },
          "metadata": {
            "tags": []
          },
          "execution_count": 19
        }
      ]
    },
    {
      "cell_type": "code",
      "metadata": {
        "id": "0IwG_iD4IAoa"
      },
      "source": [
        "# Separate majority and minority classes\n",
        "train_majority = train[train.Loan_Status==1]\n",
        "train_minority = train[train.Loan_Status==0]\n",
        " \n",
        "# Upsample minority class\n",
        "train_minority_upsampled = resample(train_minority, \n",
        "                                 replace=True,     # sample with replacement\n",
        "                                 n_samples=422,    # to match majority class\n",
        "                                 random_state=123) # reproducible results\n",
        " \n",
        "# Combine majority class with upsampled minority class\n",
        "train = pd.concat([train_majority, train_minority_upsampled])"
      ],
      "execution_count": null,
      "outputs": []
    },
    {
      "cell_type": "code",
      "metadata": {
        "colab": {
          "base_uri": "https://localhost:8080/"
        },
        "id": "48mu5WTxJuB7",
        "outputId": "213f6f81-b592-4732-a44f-2737bdddc308"
      },
      "source": [
        "train.Loan_Status.value_counts()"
      ],
      "execution_count": null,
      "outputs": [
        {
          "output_type": "execute_result",
          "data": {
            "text/plain": [
              "0    422\n",
              "1    394\n",
              "Name: Loan_Status, dtype: int64"
            ]
          },
          "metadata": {
            "tags": []
          },
          "execution_count": 21
        }
      ]
    },
    {
      "cell_type": "code",
      "metadata": {
        "colab": {
          "base_uri": "https://localhost:8080/"
        },
        "id": "hvAmgim9q8ue",
        "outputId": "d60ac63b-7576-428c-d12c-ec38beacfe25"
      },
      "source": [
        "train.shape, test.shape"
      ],
      "execution_count": null,
      "outputs": [
        {
          "output_type": "execute_result",
          "data": {
            "text/plain": [
              "((816, 13), (367, 12))"
            ]
          },
          "metadata": {
            "tags": []
          },
          "execution_count": 22
        }
      ]
    },
    {
      "cell_type": "markdown",
      "metadata": {
        "id": "83Vy9r5OHU-A"
      },
      "source": [
        "## Fixing Missing Values"
      ]
    },
    {
      "cell_type": "code",
      "metadata": {
        "id": "86sDHt-aqJne"
      },
      "source": [
        "total_df = pd.concat([train, test], sort=False)"
      ],
      "execution_count": null,
      "outputs": []
    },
    {
      "cell_type": "code",
      "metadata": {
        "id": "7U5z3h92QawQ"
      },
      "source": [
        "total_df['Gender'].fillna(total_df['Gender'].mode()[0], inplace = True)\n",
        "total_df['Married'].fillna(total_df['Married'].mode()[0], inplace = True)\n",
        "total_df['Dependents'].fillna(total_df['Dependents'].mode()[0], inplace = True)\n",
        "total_df['Self_Employed'].fillna(total_df['Self_Employed'].mode()[0], inplace = True)\n",
        "total_df['LoanAmount'].fillna(total_df['LoanAmount'].mean(), inplace = True)\n",
        "total_df['Loan_Amount_Term'].fillna(total_df['Loan_Amount_Term'].mode()[0], inplace = True)\n",
        "total_df['Credit_History'].fillna(total_df['Credit_History'].mode()[0], inplace = True)"
      ],
      "execution_count": null,
      "outputs": []
    },
    {
      "cell_type": "code",
      "metadata": {
        "colab": {
          "base_uri": "https://localhost:8080/",
          "height": 277
        },
        "id": "2YGs8-dpgWDq",
        "outputId": "d0181b8d-8298-4a51-ef23-d56753313062"
      },
      "source": [
        "total_df.describe()"
      ],
      "execution_count": null,
      "outputs": [
        {
          "output_type": "execute_result",
          "data": {
            "text/html": [
              "<div>\n",
              "<style scoped>\n",
              "    .dataframe tbody tr th:only-of-type {\n",
              "        vertical-align: middle;\n",
              "    }\n",
              "\n",
              "    .dataframe tbody tr th {\n",
              "        vertical-align: top;\n",
              "    }\n",
              "\n",
              "    .dataframe thead th {\n",
              "        text-align: right;\n",
              "    }\n",
              "</style>\n",
              "<table border=\"1\" class=\"dataframe\">\n",
              "  <thead>\n",
              "    <tr style=\"text-align: right;\">\n",
              "      <th></th>\n",
              "      <th>ApplicantIncome</th>\n",
              "      <th>CoapplicantIncome</th>\n",
              "      <th>LoanAmount</th>\n",
              "      <th>Loan_Amount_Term</th>\n",
              "      <th>Credit_History</th>\n",
              "    </tr>\n",
              "  </thead>\n",
              "  <tbody>\n",
              "    <tr>\n",
              "      <th>count</th>\n",
              "      <td>981.000000</td>\n",
              "      <td>981.000000</td>\n",
              "      <td>981.00000</td>\n",
              "      <td>981.000000</td>\n",
              "      <td>981.000000</td>\n",
              "    </tr>\n",
              "    <tr>\n",
              "      <th>mean</th>\n",
              "      <td>5179.795107</td>\n",
              "      <td>1601.916330</td>\n",
              "      <td>142.51153</td>\n",
              "      <td>342.564730</td>\n",
              "      <td>0.849134</td>\n",
              "    </tr>\n",
              "    <tr>\n",
              "      <th>std</th>\n",
              "      <td>5695.104533</td>\n",
              "      <td>2718.772806</td>\n",
              "      <td>76.34777</td>\n",
              "      <td>64.482011</td>\n",
              "      <td>0.358101</td>\n",
              "    </tr>\n",
              "    <tr>\n",
              "      <th>min</th>\n",
              "      <td>0.000000</td>\n",
              "      <td>0.000000</td>\n",
              "      <td>9.00000</td>\n",
              "      <td>6.000000</td>\n",
              "      <td>0.000000</td>\n",
              "    </tr>\n",
              "    <tr>\n",
              "      <th>25%</th>\n",
              "      <td>2875.000000</td>\n",
              "      <td>0.000000</td>\n",
              "      <td>101.00000</td>\n",
              "      <td>360.000000</td>\n",
              "      <td>1.000000</td>\n",
              "    </tr>\n",
              "    <tr>\n",
              "      <th>50%</th>\n",
              "      <td>3800.000000</td>\n",
              "      <td>1110.000000</td>\n",
              "      <td>128.00000</td>\n",
              "      <td>360.000000</td>\n",
              "      <td>1.000000</td>\n",
              "    </tr>\n",
              "    <tr>\n",
              "      <th>75%</th>\n",
              "      <td>5516.000000</td>\n",
              "      <td>2365.000000</td>\n",
              "      <td>160.00000</td>\n",
              "      <td>360.000000</td>\n",
              "      <td>1.000000</td>\n",
              "    </tr>\n",
              "    <tr>\n",
              "      <th>max</th>\n",
              "      <td>81000.000000</td>\n",
              "      <td>41667.000000</td>\n",
              "      <td>700.00000</td>\n",
              "      <td>480.000000</td>\n",
              "      <td>1.000000</td>\n",
              "    </tr>\n",
              "  </tbody>\n",
              "</table>\n",
              "</div>"
            ],
            "text/plain": [
              "       ApplicantIncome  CoapplicantIncome  ...  Loan_Amount_Term  Credit_History\n",
              "count       981.000000         981.000000  ...        981.000000      981.000000\n",
              "mean       5179.795107        1601.916330  ...        342.564730        0.849134\n",
              "std        5695.104533        2718.772806  ...         64.482011        0.358101\n",
              "min           0.000000           0.000000  ...          6.000000        0.000000\n",
              "25%        2875.000000           0.000000  ...        360.000000        1.000000\n",
              "50%        3800.000000        1110.000000  ...        360.000000        1.000000\n",
              "75%        5516.000000        2365.000000  ...        360.000000        1.000000\n",
              "max       81000.000000       41667.000000  ...        480.000000        1.000000\n",
              "\n",
              "[8 rows x 5 columns]"
            ]
          },
          "metadata": {
            "tags": []
          },
          "execution_count": 13
        }
      ]
    },
    {
      "cell_type": "code",
      "metadata": {
        "colab": {
          "base_uri": "https://localhost:8080/"
        },
        "id": "mMSo_kNBhQFA",
        "outputId": "ea9a6ce3-04cf-4291-dc09-9162cfea5b0e"
      },
      "source": [
        "total_df['Gender'].value_counts()"
      ],
      "execution_count": null,
      "outputs": [
        {
          "output_type": "execute_result",
          "data": {
            "text/plain": [
              "Male      799\n",
              "Female    182\n",
              "Name: Gender, dtype: int64"
            ]
          },
          "metadata": {
            "tags": []
          },
          "execution_count": 14
        }
      ]
    },
    {
      "cell_type": "code",
      "metadata": {
        "id": "dW6oMdgT_s9k"
      },
      "source": [
        "total_df.drop('Loan_Amount_Term', axis = 1, inplace = True)"
      ],
      "execution_count": null,
      "outputs": []
    },
    {
      "cell_type": "markdown",
      "metadata": {
        "id": "Qij26J4dRClJ"
      },
      "source": [
        "# Feature Engineering"
      ]
    },
    {
      "cell_type": "code",
      "metadata": {
        "colab": {
          "base_uri": "https://localhost:8080/"
        },
        "id": "Hdq68pnRV9W4",
        "outputId": "11db4ad2-1f07-4914-861e-ccaba14acbf0"
      },
      "source": [
        "total_df.nunique()"
      ],
      "execution_count": null,
      "outputs": [
        {
          "output_type": "execute_result",
          "data": {
            "text/plain": [
              "Loan_ID              981\n",
              "Gender                 2\n",
              "Married                2\n",
              "Dependents             4\n",
              "Education              2\n",
              "Self_Employed          2\n",
              "ApplicantIncome      752\n",
              "CoapplicantIncome    437\n",
              "LoanAmount           233\n",
              "Credit_History         2\n",
              "Property_Area          3\n",
              "Loan_Status            2\n",
              "dtype: int64"
            ]
          },
          "metadata": {
            "tags": []
          },
          "execution_count": 16
        }
      ]
    },
    {
      "cell_type": "code",
      "metadata": {
        "colab": {
          "base_uri": "https://localhost:8080/",
          "height": 191
        },
        "id": "wBvFDGrjVink",
        "outputId": "e6e5529b-f3b7-4321-f720-f7a6307eabd6"
      },
      "source": [
        "total_df.head()"
      ],
      "execution_count": null,
      "outputs": [
        {
          "output_type": "execute_result",
          "data": {
            "text/html": [
              "<div>\n",
              "<style scoped>\n",
              "    .dataframe tbody tr th:only-of-type {\n",
              "        vertical-align: middle;\n",
              "    }\n",
              "\n",
              "    .dataframe tbody tr th {\n",
              "        vertical-align: top;\n",
              "    }\n",
              "\n",
              "    .dataframe thead th {\n",
              "        text-align: right;\n",
              "    }\n",
              "</style>\n",
              "<table border=\"1\" class=\"dataframe\">\n",
              "  <thead>\n",
              "    <tr style=\"text-align: right;\">\n",
              "      <th></th>\n",
              "      <th>Loan_ID</th>\n",
              "      <th>Gender</th>\n",
              "      <th>Married</th>\n",
              "      <th>Dependents</th>\n",
              "      <th>Education</th>\n",
              "      <th>Self_Employed</th>\n",
              "      <th>ApplicantIncome</th>\n",
              "      <th>CoapplicantIncome</th>\n",
              "      <th>LoanAmount</th>\n",
              "      <th>Credit_History</th>\n",
              "      <th>Property_Area</th>\n",
              "      <th>Loan_Status</th>\n",
              "    </tr>\n",
              "  </thead>\n",
              "  <tbody>\n",
              "    <tr>\n",
              "      <th>0</th>\n",
              "      <td>LP001002</td>\n",
              "      <td>Male</td>\n",
              "      <td>No</td>\n",
              "      <td>0</td>\n",
              "      <td>Graduate</td>\n",
              "      <td>No</td>\n",
              "      <td>5849</td>\n",
              "      <td>0.0</td>\n",
              "      <td>142.51153</td>\n",
              "      <td>1.0</td>\n",
              "      <td>Urban</td>\n",
              "      <td>1</td>\n",
              "    </tr>\n",
              "    <tr>\n",
              "      <th>1</th>\n",
              "      <td>LP001003</td>\n",
              "      <td>Male</td>\n",
              "      <td>Yes</td>\n",
              "      <td>1</td>\n",
              "      <td>Graduate</td>\n",
              "      <td>No</td>\n",
              "      <td>4583</td>\n",
              "      <td>1508.0</td>\n",
              "      <td>128.00000</td>\n",
              "      <td>1.0</td>\n",
              "      <td>Rural</td>\n",
              "      <td>0</td>\n",
              "    </tr>\n",
              "    <tr>\n",
              "      <th>2</th>\n",
              "      <td>LP001005</td>\n",
              "      <td>Male</td>\n",
              "      <td>Yes</td>\n",
              "      <td>0</td>\n",
              "      <td>Graduate</td>\n",
              "      <td>Yes</td>\n",
              "      <td>3000</td>\n",
              "      <td>0.0</td>\n",
              "      <td>66.00000</td>\n",
              "      <td>1.0</td>\n",
              "      <td>Urban</td>\n",
              "      <td>1</td>\n",
              "    </tr>\n",
              "    <tr>\n",
              "      <th>3</th>\n",
              "      <td>LP001006</td>\n",
              "      <td>Male</td>\n",
              "      <td>Yes</td>\n",
              "      <td>0</td>\n",
              "      <td>Not Graduate</td>\n",
              "      <td>No</td>\n",
              "      <td>2583</td>\n",
              "      <td>2358.0</td>\n",
              "      <td>120.00000</td>\n",
              "      <td>1.0</td>\n",
              "      <td>Urban</td>\n",
              "      <td>1</td>\n",
              "    </tr>\n",
              "    <tr>\n",
              "      <th>4</th>\n",
              "      <td>LP001008</td>\n",
              "      <td>Male</td>\n",
              "      <td>No</td>\n",
              "      <td>0</td>\n",
              "      <td>Graduate</td>\n",
              "      <td>No</td>\n",
              "      <td>6000</td>\n",
              "      <td>0.0</td>\n",
              "      <td>141.00000</td>\n",
              "      <td>1.0</td>\n",
              "      <td>Urban</td>\n",
              "      <td>1</td>\n",
              "    </tr>\n",
              "  </tbody>\n",
              "</table>\n",
              "</div>"
            ],
            "text/plain": [
              "    Loan_ID Gender Married  ... Credit_History Property_Area Loan_Status\n",
              "0  LP001002   Male      No  ...            1.0         Urban           1\n",
              "1  LP001003   Male     Yes  ...            1.0         Rural           0\n",
              "2  LP001005   Male     Yes  ...            1.0         Urban           1\n",
              "3  LP001006   Male     Yes  ...            1.0         Urban           1\n",
              "4  LP001008   Male      No  ...            1.0         Urban           1\n",
              "\n",
              "[5 rows x 12 columns]"
            ]
          },
          "metadata": {
            "tags": []
          },
          "execution_count": 17
        }
      ]
    },
    {
      "cell_type": "code",
      "metadata": {
        "colab": {
          "base_uri": "https://localhost:8080/"
        },
        "id": "PQQYy-BBx_VF",
        "outputId": "a37aea8c-7f52-4223-b616-9ca98c925873"
      },
      "source": [
        "total_df.isna().sum()"
      ],
      "execution_count": null,
      "outputs": [
        {
          "output_type": "execute_result",
          "data": {
            "text/plain": [
              "Loan_ID                0\n",
              "Gender                 0\n",
              "Married                0\n",
              "Dependents             0\n",
              "Education              0\n",
              "Self_Employed          0\n",
              "ApplicantIncome        0\n",
              "CoapplicantIncome      0\n",
              "LoanAmount             0\n",
              "Credit_History         0\n",
              "Property_Area          0\n",
              "Loan_Status          367\n",
              "dtype: int64"
            ]
          },
          "metadata": {
            "tags": []
          },
          "execution_count": 18
        }
      ]
    },
    {
      "cell_type": "code",
      "metadata": {
        "id": "DiND78TQJClu"
      },
      "source": [
        "#total_df['TotalIncome'] = total_df['ApplicantIncome'] + total_df['CoapplicantIncome']"
      ],
      "execution_count": null,
      "outputs": []
    },
    {
      "cell_type": "code",
      "metadata": {
        "id": "mTmlipMLQpNH"
      },
      "source": [
        "X = total_df.drop('Loan_Status', axis = 1)\n",
        "X = X.drop('Loan_ID', axis = 1)\n",
        "Y = total_df['Loan_Status']"
      ],
      "execution_count": null,
      "outputs": []
    },
    {
      "cell_type": "code",
      "metadata": {
        "colab": {
          "base_uri": "https://localhost:8080/"
        },
        "id": "YIyGYlHTQpEL",
        "outputId": "e8fe59fb-693a-449e-f232-9526bf9aaadb"
      },
      "source": [
        "Y.value_counts()"
      ],
      "execution_count": null,
      "outputs": [
        {
          "output_type": "execute_result",
          "data": {
            "text/plain": [
              "1    422\n",
              "0    192\n",
              "Name: Loan_Status, dtype: int64"
            ]
          },
          "metadata": {
            "tags": []
          },
          "execution_count": 21
        }
      ]
    },
    {
      "cell_type": "code",
      "metadata": {
        "colab": {
          "base_uri": "https://localhost:8080/"
        },
        "id": "BP0MhsKyQo4n",
        "outputId": "f7d84535-5071-429b-d5f4-f48299555974"
      },
      "source": [
        "X.shape, Y.shape"
      ],
      "execution_count": null,
      "outputs": [
        {
          "output_type": "execute_result",
          "data": {
            "text/plain": [
              "((981, 10), (981,))"
            ]
          },
          "metadata": {
            "tags": []
          },
          "execution_count": 22
        }
      ]
    },
    {
      "cell_type": "code",
      "metadata": {
        "id": "f8MHKNAOXMKb"
      },
      "source": [
        "X_cat = X.drop(['ApplicantIncome', 'CoapplicantIncome', 'LoanAmount'], axis = 1)\n",
        "X_num = X[['ApplicantIncome', 'CoapplicantIncome', 'LoanAmount']]"
      ],
      "execution_count": null,
      "outputs": []
    },
    {
      "cell_type": "code",
      "metadata": {
        "colab": {
          "base_uri": "https://localhost:8080/",
          "height": 391
        },
        "id": "30LY60bY2Czv",
        "outputId": "37b1563c-2aa6-49f7-83d1-7d922928e417"
      },
      "source": [
        "X_num"
      ],
      "execution_count": null,
      "outputs": [
        {
          "output_type": "execute_result",
          "data": {
            "text/html": [
              "<div>\n",
              "<style scoped>\n",
              "    .dataframe tbody tr th:only-of-type {\n",
              "        vertical-align: middle;\n",
              "    }\n",
              "\n",
              "    .dataframe tbody tr th {\n",
              "        vertical-align: top;\n",
              "    }\n",
              "\n",
              "    .dataframe thead th {\n",
              "        text-align: right;\n",
              "    }\n",
              "</style>\n",
              "<table border=\"1\" class=\"dataframe\">\n",
              "  <thead>\n",
              "    <tr style=\"text-align: right;\">\n",
              "      <th></th>\n",
              "      <th>ApplicantIncome</th>\n",
              "      <th>CoapplicantIncome</th>\n",
              "      <th>LoanAmount</th>\n",
              "    </tr>\n",
              "  </thead>\n",
              "  <tbody>\n",
              "    <tr>\n",
              "      <th>0</th>\n",
              "      <td>5849</td>\n",
              "      <td>0.0</td>\n",
              "      <td>142.51153</td>\n",
              "    </tr>\n",
              "    <tr>\n",
              "      <th>1</th>\n",
              "      <td>4583</td>\n",
              "      <td>1508.0</td>\n",
              "      <td>128.00000</td>\n",
              "    </tr>\n",
              "    <tr>\n",
              "      <th>2</th>\n",
              "      <td>3000</td>\n",
              "      <td>0.0</td>\n",
              "      <td>66.00000</td>\n",
              "    </tr>\n",
              "    <tr>\n",
              "      <th>3</th>\n",
              "      <td>2583</td>\n",
              "      <td>2358.0</td>\n",
              "      <td>120.00000</td>\n",
              "    </tr>\n",
              "    <tr>\n",
              "      <th>4</th>\n",
              "      <td>6000</td>\n",
              "      <td>0.0</td>\n",
              "      <td>141.00000</td>\n",
              "    </tr>\n",
              "    <tr>\n",
              "      <th>...</th>\n",
              "      <td>...</td>\n",
              "      <td>...</td>\n",
              "      <td>...</td>\n",
              "    </tr>\n",
              "    <tr>\n",
              "      <th>362</th>\n",
              "      <td>4009</td>\n",
              "      <td>1777.0</td>\n",
              "      <td>113.00000</td>\n",
              "    </tr>\n",
              "    <tr>\n",
              "      <th>363</th>\n",
              "      <td>4158</td>\n",
              "      <td>709.0</td>\n",
              "      <td>115.00000</td>\n",
              "    </tr>\n",
              "    <tr>\n",
              "      <th>364</th>\n",
              "      <td>3250</td>\n",
              "      <td>1993.0</td>\n",
              "      <td>126.00000</td>\n",
              "    </tr>\n",
              "    <tr>\n",
              "      <th>365</th>\n",
              "      <td>5000</td>\n",
              "      <td>2393.0</td>\n",
              "      <td>158.00000</td>\n",
              "    </tr>\n",
              "    <tr>\n",
              "      <th>366</th>\n",
              "      <td>9200</td>\n",
              "      <td>0.0</td>\n",
              "      <td>98.00000</td>\n",
              "    </tr>\n",
              "  </tbody>\n",
              "</table>\n",
              "<p>981 rows × 3 columns</p>\n",
              "</div>"
            ],
            "text/plain": [
              "     ApplicantIncome  CoapplicantIncome  LoanAmount\n",
              "0               5849                0.0   142.51153\n",
              "1               4583             1508.0   128.00000\n",
              "2               3000                0.0    66.00000\n",
              "3               2583             2358.0   120.00000\n",
              "4               6000                0.0   141.00000\n",
              "..               ...                ...         ...\n",
              "362             4009             1777.0   113.00000\n",
              "363             4158              709.0   115.00000\n",
              "364             3250             1993.0   126.00000\n",
              "365             5000             2393.0   158.00000\n",
              "366             9200                0.0    98.00000\n",
              "\n",
              "[981 rows x 3 columns]"
            ]
          },
          "metadata": {
            "tags": []
          },
          "execution_count": 24
        }
      ]
    },
    {
      "cell_type": "code",
      "metadata": {
        "colab": {
          "base_uri": "https://localhost:8080/",
          "height": 191
        },
        "id": "B4a4gWZwUV2T",
        "outputId": "09ce1547-c8f8-451b-8233-e6d2c1259634"
      },
      "source": [
        "X_num.head()"
      ],
      "execution_count": null,
      "outputs": [
        {
          "output_type": "execute_result",
          "data": {
            "text/html": [
              "<div>\n",
              "<style scoped>\n",
              "    .dataframe tbody tr th:only-of-type {\n",
              "        vertical-align: middle;\n",
              "    }\n",
              "\n",
              "    .dataframe tbody tr th {\n",
              "        vertical-align: top;\n",
              "    }\n",
              "\n",
              "    .dataframe thead th {\n",
              "        text-align: right;\n",
              "    }\n",
              "</style>\n",
              "<table border=\"1\" class=\"dataframe\">\n",
              "  <thead>\n",
              "    <tr style=\"text-align: right;\">\n",
              "      <th></th>\n",
              "      <th>ApplicantIncome</th>\n",
              "      <th>CoapplicantIncome</th>\n",
              "      <th>LoanAmount</th>\n",
              "    </tr>\n",
              "  </thead>\n",
              "  <tbody>\n",
              "    <tr>\n",
              "      <th>0</th>\n",
              "      <td>5849</td>\n",
              "      <td>0.0</td>\n",
              "      <td>142.51153</td>\n",
              "    </tr>\n",
              "    <tr>\n",
              "      <th>1</th>\n",
              "      <td>4583</td>\n",
              "      <td>1508.0</td>\n",
              "      <td>128.00000</td>\n",
              "    </tr>\n",
              "    <tr>\n",
              "      <th>2</th>\n",
              "      <td>3000</td>\n",
              "      <td>0.0</td>\n",
              "      <td>66.00000</td>\n",
              "    </tr>\n",
              "    <tr>\n",
              "      <th>3</th>\n",
              "      <td>2583</td>\n",
              "      <td>2358.0</td>\n",
              "      <td>120.00000</td>\n",
              "    </tr>\n",
              "    <tr>\n",
              "      <th>4</th>\n",
              "      <td>6000</td>\n",
              "      <td>0.0</td>\n",
              "      <td>141.00000</td>\n",
              "    </tr>\n",
              "  </tbody>\n",
              "</table>\n",
              "</div>"
            ],
            "text/plain": [
              "   ApplicantIncome  CoapplicantIncome  LoanAmount\n",
              "0             5849                0.0   142.51153\n",
              "1             4583             1508.0   128.00000\n",
              "2             3000                0.0    66.00000\n",
              "3             2583             2358.0   120.00000\n",
              "4             6000                0.0   141.00000"
            ]
          },
          "metadata": {
            "tags": []
          },
          "execution_count": 25
        }
      ]
    },
    {
      "cell_type": "code",
      "metadata": {
        "colab": {
          "base_uri": "https://localhost:8080/",
          "height": 612
        },
        "id": "p4FZOwapWDWs",
        "outputId": "50334a53-868e-4478-ad65-ccfb570ac945"
      },
      "source": [
        "plt.figure(figsize=(20,10))\n",
        "corr = train.corr()\n",
        "sns.heatmap(corr, xticklabels=corr.columns, yticklabels=corr.columns, annot=True, cmap=sns.diverging_palette(220, 20, as_cmap=True))"
      ],
      "execution_count": null,
      "outputs": [
        {
          "output_type": "execute_result",
          "data": {
            "text/plain": [
              "<matplotlib.axes._subplots.AxesSubplot at 0x7f7e889e4ba8>"
            ]
          },
          "metadata": {
            "tags": []
          },
          "execution_count": 26
        },
        {
          "output_type": "display_data",
          "data": {
            "image/png": "[encoded data removed]",
            "text/plain": [
              "<Figure size 1440x720 with 2 Axes>"
            ]
          },
          "metadata": {
            "tags": [],
            "needs_background": "light"
          }
        }
      ]
    },
    {
      "cell_type": "code",
      "metadata": {
        "colab": {
          "base_uri": "https://localhost:8080/",
          "height": 191
        },
        "id": "c2LNXJEql8Z4",
        "outputId": "bff75395-b3bb-46d8-b3e7-6e556afd9f8e"
      },
      "source": [
        "X_num.head()"
      ],
      "execution_count": null,
      "outputs": [
        {
          "output_type": "execute_result",
          "data": {
            "text/html": [
              "<div>\n",
              "<style scoped>\n",
              "    .dataframe tbody tr th:only-of-type {\n",
              "        vertical-align: middle;\n",
              "    }\n",
              "\n",
              "    .dataframe tbody tr th {\n",
              "        vertical-align: top;\n",
              "    }\n",
              "\n",
              "    .dataframe thead th {\n",
              "        text-align: right;\n",
              "    }\n",
              "</style>\n",
              "<table border=\"1\" class=\"dataframe\">\n",
              "  <thead>\n",
              "    <tr style=\"text-align: right;\">\n",
              "      <th></th>\n",
              "      <th>ApplicantIncome</th>\n",
              "      <th>CoapplicantIncome</th>\n",
              "      <th>LoanAmount</th>\n",
              "    </tr>\n",
              "  </thead>\n",
              "  <tbody>\n",
              "    <tr>\n",
              "      <th>0</th>\n",
              "      <td>5849</td>\n",
              "      <td>0.0</td>\n",
              "      <td>142.51153</td>\n",
              "    </tr>\n",
              "    <tr>\n",
              "      <th>1</th>\n",
              "      <td>4583</td>\n",
              "      <td>1508.0</td>\n",
              "      <td>128.00000</td>\n",
              "    </tr>\n",
              "    <tr>\n",
              "      <th>2</th>\n",
              "      <td>3000</td>\n",
              "      <td>0.0</td>\n",
              "      <td>66.00000</td>\n",
              "    </tr>\n",
              "    <tr>\n",
              "      <th>3</th>\n",
              "      <td>2583</td>\n",
              "      <td>2358.0</td>\n",
              "      <td>120.00000</td>\n",
              "    </tr>\n",
              "    <tr>\n",
              "      <th>4</th>\n",
              "      <td>6000</td>\n",
              "      <td>0.0</td>\n",
              "      <td>141.00000</td>\n",
              "    </tr>\n",
              "  </tbody>\n",
              "</table>\n",
              "</div>"
            ],
            "text/plain": [
              "   ApplicantIncome  CoapplicantIncome  LoanAmount\n",
              "0             5849                0.0   142.51153\n",
              "1             4583             1508.0   128.00000\n",
              "2             3000                0.0    66.00000\n",
              "3             2583             2358.0   120.00000\n",
              "4             6000                0.0   141.00000"
            ]
          },
          "metadata": {
            "tags": []
          },
          "execution_count": 27
        }
      ]
    },
    {
      "cell_type": "code",
      "metadata": {
        "id": "qrE3xaOTi8UZ"
      },
      "source": [
        "X_one_hot = pd.get_dummies(X_cat, columns = X_cat.columns)"
      ],
      "execution_count": null,
      "outputs": []
    },
    {
      "cell_type": "code",
      "metadata": {
        "colab": {
          "base_uri": "https://localhost:8080/"
        },
        "id": "_yzzquc-1Wxa",
        "outputId": "56a9b801-5cb0-4c3f-92ae-aceb82cbf677"
      },
      "source": [
        "X_cat.shape, X_one_hot.shape, X_num.shape"
      ],
      "execution_count": null,
      "outputs": [
        {
          "output_type": "execute_result",
          "data": {
            "text/plain": [
              "((981, 7), (981, 17), (981, 3))"
            ]
          },
          "metadata": {
            "tags": []
          },
          "execution_count": 29
        }
      ]
    },
    {
      "cell_type": "code",
      "metadata": {
        "colab": {
          "base_uri": "https://localhost:8080/",
          "height": 347
        },
        "id": "Wf-NoSjKYmOX",
        "outputId": "77f64304-b872-4aa8-ab3f-dd2fab0012a6"
      },
      "source": [
        "sns.distplot(X_num['LoanAmount'])"
      ],
      "execution_count": null,
      "outputs": [
        {
          "output_type": "stream",
          "text": [
            "/usr/local/lib/python3.6/dist-packages/seaborn/distributions.py:2557: FutureWarning: `distplot` is a deprecated function and will be removed in a future version. Please adapt your code to use either `displot` (a figure-level function with similar flexibility) or `histplot` (an axes-level function for histograms).\n",
            "  warnings.warn(msg, FutureWarning)\n"
          ],
          "name": "stderr"
        },
        {
          "output_type": "execute_result",
          "data": {
            "text/plain": [
              "<matplotlib.axes._subplots.AxesSubplot at 0x7f7e87b25c88>"
            ]
          },
          "metadata": {
            "tags": []
          },
          "execution_count": 30
        },
        {
          "output_type": "display_data",
          "data": {
            "image/png": "[encoded data removed]",
            "text/plain": [
              "<Figure size 432x288 with 1 Axes>"
            ]
          },
          "metadata": {
            "tags": [],
            "needs_background": "light"
          }
        }
      ]
    },
    {
      "cell_type": "code",
      "metadata": {
        "colab": {
          "base_uri": "https://localhost:8080/",
          "height": 277
        },
        "id": "gh3t1yS7tdPa",
        "outputId": "a9848cfd-b205-45c2-8df8-574c981cb0f9"
      },
      "source": [
        "X_num.describe()"
      ],
      "execution_count": null,
      "outputs": [
        {
          "output_type": "execute_result",
          "data": {
            "text/html": [
              "<div>\n",
              "<style scoped>\n",
              "    .dataframe tbody tr th:only-of-type {\n",
              "        vertical-align: middle;\n",
              "    }\n",
              "\n",
              "    .dataframe tbody tr th {\n",
              "        vertical-align: top;\n",
              "    }\n",
              "\n",
              "    .dataframe thead th {\n",
              "        text-align: right;\n",
              "    }\n",
              "</style>\n",
              "<table border=\"1\" class=\"dataframe\">\n",
              "  <thead>\n",
              "    <tr style=\"text-align: right;\">\n",
              "      <th></th>\n",
              "      <th>ApplicantIncome</th>\n",
              "      <th>CoapplicantIncome</th>\n",
              "      <th>LoanAmount</th>\n",
              "    </tr>\n",
              "  </thead>\n",
              "  <tbody>\n",
              "    <tr>\n",
              "      <th>count</th>\n",
              "      <td>981.000000</td>\n",
              "      <td>981.000000</td>\n",
              "      <td>981.00000</td>\n",
              "    </tr>\n",
              "    <tr>\n",
              "      <th>mean</th>\n",
              "      <td>5179.795107</td>\n",
              "      <td>1601.916330</td>\n",
              "      <td>142.51153</td>\n",
              "    </tr>\n",
              "    <tr>\n",
              "      <th>std</th>\n",
              "      <td>5695.104533</td>\n",
              "      <td>2718.772806</td>\n",
              "      <td>76.34777</td>\n",
              "    </tr>\n",
              "    <tr>\n",
              "      <th>min</th>\n",
              "      <td>0.000000</td>\n",
              "      <td>0.000000</td>\n",
              "      <td>9.00000</td>\n",
              "    </tr>\n",
              "    <tr>\n",
              "      <th>25%</th>\n",
              "      <td>2875.000000</td>\n",
              "      <td>0.000000</td>\n",
              "      <td>101.00000</td>\n",
              "    </tr>\n",
              "    <tr>\n",
              "      <th>50%</th>\n",
              "      <td>3800.000000</td>\n",
              "      <td>1110.000000</td>\n",
              "      <td>128.00000</td>\n",
              "    </tr>\n",
              "    <tr>\n",
              "      <th>75%</th>\n",
              "      <td>5516.000000</td>\n",
              "      <td>2365.000000</td>\n",
              "      <td>160.00000</td>\n",
              "    </tr>\n",
              "    <tr>\n",
              "      <th>max</th>\n",
              "      <td>81000.000000</td>\n",
              "      <td>41667.000000</td>\n",
              "      <td>700.00000</td>\n",
              "    </tr>\n",
              "  </tbody>\n",
              "</table>\n",
              "</div>"
            ],
            "text/plain": [
              "       ApplicantIncome  CoapplicantIncome  LoanAmount\n",
              "count       981.000000         981.000000   981.00000\n",
              "mean       5179.795107        1601.916330   142.51153\n",
              "std        5695.104533        2718.772806    76.34777\n",
              "min           0.000000           0.000000     9.00000\n",
              "25%        2875.000000           0.000000   101.00000\n",
              "50%        3800.000000        1110.000000   128.00000\n",
              "75%        5516.000000        2365.000000   160.00000\n",
              "max       81000.000000       41667.000000   700.00000"
            ]
          },
          "metadata": {
            "tags": []
          },
          "execution_count": 31
        }
      ]
    },
    {
      "cell_type": "code",
      "metadata": {
        "colab": {
          "base_uri": "https://localhost:8080/",
          "height": 347
        },
        "id": "2SxsKyknYR5e",
        "outputId": "e3b83c36-ed51-4d63-9108-6e99ecd8ac5d"
      },
      "source": [
        "sns.distplot(X_num['ApplicantIncome'])"
      ],
      "execution_count": null,
      "outputs": [
        {
          "output_type": "stream",
          "text": [
            "/usr/local/lib/python3.6/dist-packages/seaborn/distributions.py:2557: FutureWarning: `distplot` is a deprecated function and will be removed in a future version. Please adapt your code to use either `displot` (a figure-level function with similar flexibility) or `histplot` (an axes-level function for histograms).\n",
            "  warnings.warn(msg, FutureWarning)\n"
          ],
          "name": "stderr"
        },
        {
          "output_type": "execute_result",
          "data": {
            "text/plain": [
              "<matplotlib.axes._subplots.AxesSubplot at 0x7f7e87b06898>"
            ]
          },
          "metadata": {
            "tags": []
          },
          "execution_count": 32
        },
        {
          "output_type": "display_data",
          "data": {
            "image/png": "[encoded data removed]",
            "text/plain": [
              "<Figure size 432x288 with 1 Axes>"
            ]
          },
          "metadata": {
            "tags": [],
            "needs_background": "light"
          }
        }
      ]
    },
    {
      "cell_type": "code",
      "metadata": {
        "colab": {
          "base_uri": "https://localhost:8080/"
        },
        "id": "afnzubXltQqI",
        "outputId": "21eda510-6d86-46b0-9a8d-9fc286dee936"
      },
      "source": [
        "X_num['LoanAmount']"
      ],
      "execution_count": null,
      "outputs": [
        {
          "output_type": "execute_result",
          "data": {
            "text/plain": [
              "0      142.51153\n",
              "1      128.00000\n",
              "2       66.00000\n",
              "3      120.00000\n",
              "4      141.00000\n",
              "         ...    \n",
              "362    113.00000\n",
              "363    115.00000\n",
              "364    126.00000\n",
              "365    158.00000\n",
              "366     98.00000\n",
              "Name: LoanAmount, Length: 981, dtype: float64"
            ]
          },
          "metadata": {
            "tags": []
          },
          "execution_count": 33
        }
      ]
    },
    {
      "cell_type": "code",
      "metadata": {
        "id": "cLiFKsnsYPgX"
      },
      "source": [
        "X_num = X_num[['ApplicantIncome', 'CoapplicantIncome', 'LoanAmount']].applymap(lambda x: np.log(x+1))"
      ],
      "execution_count": null,
      "outputs": []
    },
    {
      "cell_type": "code",
      "metadata": {
        "id": "taufC7dQZetO",
        "colab": {
          "base_uri": "https://localhost:8080/",
          "height": 347
        },
        "outputId": "b7a33bbe-bccc-4cd8-834c-a6f5213aa2cc"
      },
      "source": [
        "sns.distplot(X_num['LoanAmount'])"
      ],
      "execution_count": null,
      "outputs": [
        {
          "output_type": "stream",
          "text": [
            "/usr/local/lib/python3.6/dist-packages/seaborn/distributions.py:2557: FutureWarning: `distplot` is a deprecated function and will be removed in a future version. Please adapt your code to use either `displot` (a figure-level function with similar flexibility) or `histplot` (an axes-level function for histograms).\n",
            "  warnings.warn(msg, FutureWarning)\n"
          ],
          "name": "stderr"
        },
        {
          "output_type": "execute_result",
          "data": {
            "text/plain": [
              "<matplotlib.axes._subplots.AxesSubplot at 0x7f7e87bc4080>"
            ]
          },
          "metadata": {
            "tags": []
          },
          "execution_count": 41
        },
        {
          "output_type": "display_data",
          "data": {
            "image/png": "[encoded data removed]",
            "text/plain": [
              "<Figure size 432x288 with 1 Axes>"
            ]
          },
          "metadata": {
            "tags": [],
            "needs_background": "light"
          }
        }
      ]
    },
    {
      "cell_type": "code",
      "metadata": {
        "id": "y5zlOpRSVDML",
        "colab": {
          "base_uri": "https://localhost:8080/",
          "height": 51
        },
        "outputId": "770eaf7a-1d61-46ff-ed2e-5b7f2588b794"
      },
      "source": [
        "'''\n",
        "from sklearn.preprocessing import StandardScaler\n",
        "\n",
        "import warnings\n",
        "warnings.filterwarnings(\"ignore\")\n",
        "\n",
        "scaler = StandardScaler()\n",
        "scaler.fit(X_num)\n",
        "\n",
        "X_num = pd.DataFrame(scaler.transform(X_num), columns = X_num.columns)\n",
        "'''"
      ],
      "execution_count": null,
      "outputs": [
        {
          "output_type": "execute_result",
          "data": {
            "application/vnd.google.colaboratory.intrinsic+json": {
              "type": "string"
            },
            "text/plain": [
              "'\\nfrom sklearn.preprocessing import StandardScaler\\n\\nimport warnings\\nwarnings.filterwarnings(\"ignore\")\\n\\nscaler = StandardScaler()\\nscaler.fit(X_num)\\n\\nX_num = pd.DataFrame(scaler.transform(X_num), columns = X_num.columns)\\n'"
            ]
          },
          "metadata": {
            "tags": []
          },
          "execution_count": 42
        }
      ]
    },
    {
      "cell_type": "code",
      "metadata": {
        "id": "JHYkJjg9twUH",
        "colab": {
          "base_uri": "https://localhost:8080/"
        },
        "outputId": "352f5a00-a140-435d-f69f-e80add63bb01"
      },
      "source": [
        "X_num.isna().sum()"
      ],
      "execution_count": null,
      "outputs": [
        {
          "output_type": "execute_result",
          "data": {
            "text/plain": [
              "ApplicantIncome      0\n",
              "CoapplicantIncome    0\n",
              "LoanAmount           0\n",
              "dtype: int64"
            ]
          },
          "metadata": {
            "tags": []
          },
          "execution_count": 43
        }
      ]
    },
    {
      "cell_type": "code",
      "metadata": {
        "id": "Y9aCrs631Jwg",
        "colab": {
          "base_uri": "https://localhost:8080/"
        },
        "outputId": "00d72aae-6b78-41de-ba2c-eb75b7aa5d93"
      },
      "source": [
        "X_num.shape, Y.shape"
      ],
      "execution_count": null,
      "outputs": [
        {
          "output_type": "execute_result",
          "data": {
            "text/plain": [
              "((981, 3), (981,))"
            ]
          },
          "metadata": {
            "tags": []
          },
          "execution_count": 44
        }
      ]
    },
    {
      "cell_type": "markdown",
      "metadata": {
        "id": "0AuAGAOSQ952"
      },
      "source": [
        "## Modeling"
      ]
    },
    {
      "cell_type": "code",
      "metadata": {
        "colab": {
          "base_uri": "https://localhost:8080/",
          "height": 191
        },
        "id": "bAR4aYM2Y2nb",
        "outputId": "783d078a-daf2-4138-bbae-b0e23ef700b9"
      },
      "source": [
        "X.head()"
      ],
      "execution_count": null,
      "outputs": [
        {
          "output_type": "execute_result",
          "data": {
            "text/html": [
              "<div>\n",
              "<style scoped>\n",
              "    .dataframe tbody tr th:only-of-type {\n",
              "        vertical-align: middle;\n",
              "    }\n",
              "\n",
              "    .dataframe tbody tr th {\n",
              "        vertical-align: top;\n",
              "    }\n",
              "\n",
              "    .dataframe thead th {\n",
              "        text-align: right;\n",
              "    }\n",
              "</style>\n",
              "<table border=\"1\" class=\"dataframe\">\n",
              "  <thead>\n",
              "    <tr style=\"text-align: right;\">\n",
              "      <th></th>\n",
              "      <th>Gender</th>\n",
              "      <th>Married</th>\n",
              "      <th>Dependents</th>\n",
              "      <th>Education</th>\n",
              "      <th>Self_Employed</th>\n",
              "      <th>ApplicantIncome</th>\n",
              "      <th>CoapplicantIncome</th>\n",
              "      <th>LoanAmount</th>\n",
              "      <th>Credit_History</th>\n",
              "      <th>Property_Area</th>\n",
              "    </tr>\n",
              "  </thead>\n",
              "  <tbody>\n",
              "    <tr>\n",
              "      <th>0</th>\n",
              "      <td>Male</td>\n",
              "      <td>No</td>\n",
              "      <td>0</td>\n",
              "      <td>Graduate</td>\n",
              "      <td>No</td>\n",
              "      <td>5849</td>\n",
              "      <td>0.0</td>\n",
              "      <td>142.51153</td>\n",
              "      <td>1.0</td>\n",
              "      <td>Urban</td>\n",
              "    </tr>\n",
              "    <tr>\n",
              "      <th>1</th>\n",
              "      <td>Male</td>\n",
              "      <td>Yes</td>\n",
              "      <td>1</td>\n",
              "      <td>Graduate</td>\n",
              "      <td>No</td>\n",
              "      <td>4583</td>\n",
              "      <td>1508.0</td>\n",
              "      <td>128.00000</td>\n",
              "      <td>1.0</td>\n",
              "      <td>Rural</td>\n",
              "    </tr>\n",
              "    <tr>\n",
              "      <th>2</th>\n",
              "      <td>Male</td>\n",
              "      <td>Yes</td>\n",
              "      <td>0</td>\n",
              "      <td>Graduate</td>\n",
              "      <td>Yes</td>\n",
              "      <td>3000</td>\n",
              "      <td>0.0</td>\n",
              "      <td>66.00000</td>\n",
              "      <td>1.0</td>\n",
              "      <td>Urban</td>\n",
              "    </tr>\n",
              "    <tr>\n",
              "      <th>3</th>\n",
              "      <td>Male</td>\n",
              "      <td>Yes</td>\n",
              "      <td>0</td>\n",
              "      <td>Not Graduate</td>\n",
              "      <td>No</td>\n",
              "      <td>2583</td>\n",
              "      <td>2358.0</td>\n",
              "      <td>120.00000</td>\n",
              "      <td>1.0</td>\n",
              "      <td>Urban</td>\n",
              "    </tr>\n",
              "    <tr>\n",
              "      <th>4</th>\n",
              "      <td>Male</td>\n",
              "      <td>No</td>\n",
              "      <td>0</td>\n",
              "      <td>Graduate</td>\n",
              "      <td>No</td>\n",
              "      <td>6000</td>\n",
              "      <td>0.0</td>\n",
              "      <td>141.00000</td>\n",
              "      <td>1.0</td>\n",
              "      <td>Urban</td>\n",
              "    </tr>\n",
              "  </tbody>\n",
              "</table>\n",
              "</div>"
            ],
            "text/plain": [
              "  Gender Married Dependents  ... LoanAmount Credit_History  Property_Area\n",
              "0   Male      No          0  ...  142.51153            1.0          Urban\n",
              "1   Male     Yes          1  ...  128.00000            1.0          Rural\n",
              "2   Male     Yes          0  ...   66.00000            1.0          Urban\n",
              "3   Male     Yes          0  ...  120.00000            1.0          Urban\n",
              "4   Male      No          0  ...  141.00000            1.0          Urban\n",
              "\n",
              "[5 rows x 10 columns]"
            ]
          },
          "metadata": {
            "tags": []
          },
          "execution_count": 45
        }
      ]
    },
    {
      "cell_type": "code",
      "metadata": {
        "id": "9lQF-Cjn1nka"
      },
      "source": [
        "X_num.reset_index(inplace = True, drop = True)\n",
        "X_one_hot.reset_index(inplace = True, drop = True)"
      ],
      "execution_count": null,
      "outputs": []
    },
    {
      "cell_type": "code",
      "metadata": {
        "id": "F0SCmSrnYez_"
      },
      "source": [
        "X = pd.concat([X_one_hot, X_num], axis = 1)"
      ],
      "execution_count": null,
      "outputs": []
    },
    {
      "cell_type": "code",
      "metadata": {
        "colab": {
          "base_uri": "https://localhost:8080/"
        },
        "id": "i4x_80QW1NqO",
        "outputId": "f4bf4365-d6d5-4497-faeb-e57857b86061"
      },
      "source": [
        "X.shape"
      ],
      "execution_count": null,
      "outputs": [
        {
          "output_type": "execute_result",
          "data": {
            "text/plain": [
              "(981, 20)"
            ]
          },
          "metadata": {
            "tags": []
          },
          "execution_count": 48
        }
      ]
    },
    {
      "cell_type": "code",
      "metadata": {
        "id": "LipEEzfw5STf"
      },
      "source": [
        "X_train = X[:614]\n",
        "X_test = X[614:]\n",
        "\n",
        "Y_train = Y[:614]"
      ],
      "execution_count": null,
      "outputs": []
    },
    {
      "cell_type": "code",
      "metadata": {
        "id": "r5faFJJXMouh"
      },
      "source": [
        "Y_train=Y_train.astype('int')"
      ],
      "execution_count": null,
      "outputs": []
    },
    {
      "cell_type": "code",
      "metadata": {
        "id": "veJqZoiIxJX4"
      },
      "source": [
        "from sklearn.model_selection import RepeatedKFold\n",
        "from sklearn.model_selection import cross_val_score\n",
        "\n",
        "# evaluate a model with a given number of repeats\n",
        "def evaluate_model(X, y, repeats, model):\n",
        "    # prepare the cross-validation procedure\n",
        "    cv = RepeatedKFold(n_splits=5, n_repeats=repeats, random_state=1)\n",
        "    # create model\n",
        "    clf = model\n",
        "    # evaluate model\n",
        "    scores = cross_val_score(clf, X, y, scoring='accuracy', cv=cv, n_jobs=-1)\n",
        "    return np.mean(scores)"
      ],
      "execution_count": null,
      "outputs": []
    },
    {
      "cell_type": "code",
      "metadata": {
        "id": "m2K2ZzicRrMH"
      },
      "source": [
        "def cv_loop(X, Y, model):\n",
        "\n",
        "  mean_acc = []\n",
        "  seed = 42\n",
        "\n",
        "  for i in range(10):\n",
        "\n",
        "      X_train, X_cv, y_train, y_cv = train_test_split(X, Y, test_size = .20, random_state = i*seed)\n",
        "\n",
        "      # train model and make predictions\n",
        "      model.fit(X_train, y_train) \n",
        "      preds = model.predict(X_cv)\n",
        "\n",
        "      # compute acc metric for this CV fold\n",
        "      mean_acc.append(accuracy_score(y_cv, preds))\n",
        "      \n",
        "  return np.mean(mean_acc)"
      ],
      "execution_count": null,
      "outputs": []
    },
    {
      "cell_type": "code",
      "metadata": {
        "id": "0IUJCwTNS-5T"
      },
      "source": [
        "from sklearn.linear_model import LogisticRegression\n",
        "from sklearn.neighbors import KNeighborsClassifier\n",
        "from sklearn.svm import SVC\n",
        "from sklearn.tree import DecisionTreeClassifier\n",
        "from sklearn.ensemble import RandomForestClassifier\n",
        "from sklearn.naive_bayes import GaussianNB\n",
        "from xgboost import XGBClassifier"
      ],
      "execution_count": null,
      "outputs": []
    },
    {
      "cell_type": "code",
      "metadata": {
        "id": "iGnpFwW8Roal"
      },
      "source": [
        "def model_testing(X, Y):\n",
        "    print(\"Logistic Regression:\")\n",
        "    for c in [0.01, 0.1, 1, 10, 100]:\n",
        "        acc = evaluate_model(X.values, Y.values, 3, LogisticRegression(C = c))\n",
        "        print(f\"For C: {c}, ACC: {acc}\")\n",
        "\n",
        "    print(\"KNN:\")\n",
        "    for n in [3, 5, 9, 15, 25, 35, 45]:\n",
        "        acc = evaluate_model(X.values, Y.values, 3, KNeighborsClassifier(n_neighbors = n))\n",
        "        print(f\"For N: {n}, ACC: {acc}\")\n",
        "\n",
        "    print(\"SVC:\")\n",
        "    for c in [0.01, 0.1, 1, 10, 100]:\n",
        "        acc = evaluate_model(X.values, Y.values, 3, SVC(C = c, random_state=42))\n",
        "        print(f\"For C: {c}, ACC: {acc}\")\n",
        "    \n",
        "    print(\"Decision Trees:\")\n",
        "    for d in [1, 3, 5, 9, 15, None]:\n",
        "        acc = evaluate_model(X.values, Y.values, 3, DecisionTreeClassifier(max_depth = d, random_state=42))\n",
        "        print(f\"For Max_Depth: {d}, ACC: {acc}\")\n",
        "    \n",
        "    print(\"Naive Bayes:\")\n",
        "    acc = evaluate_model(X.values, Y.values, 3, GaussianNB())\n",
        "    print(f\"ACC: {acc}\")\n",
        "\n",
        "    print(\"Random Forest:\")\n",
        "    for n in [5, 10, 25, 50, 100, 200, 500, 1000]:\n",
        "        acc = evaluate_model(X.values, Y.values, 3, RandomForestClassifier(n_estimators = n, random_state=42))\n",
        "        print(f\"For n_estimators: {n}, ACC: {acc}\")\n",
        "\n",
        "    print(\"XGBoost:\")\n",
        "    for l in [0.001, 0.01, 0.1, 0.5, 1]:\n",
        "        acc = evaluate_model(X.values, Y.values, 3, XGBClassifier(learning_rate = l))\n",
        "        print(f\"For learning_rate: {l}, ACC: {acc}\")"
      ],
      "execution_count": null,
      "outputs": []
    },
    {
      "cell_type": "code",
      "metadata": {
        "colab": {
          "base_uri": "https://localhost:8080/"
        },
        "id": "aVUPYxagTF0a",
        "outputId": "014a92ed-7e7d-4cea-dd92-4e02b00d7e72"
      },
      "source": [
        "model_testing(X_train, Y_train)"
      ],
      "execution_count": null,
      "outputs": [
        {
          "output_type": "stream",
          "text": [
            "Logistic Regression:\n",
            "For C: 0.01, ACC: 0.700315429383802\n",
            "For C: 0.1, ACC: 0.8094317828424183\n",
            "For C: 1, ACC: 0.8078013239148784\n",
            "For C: 10, ACC: 0.80671731307477\n",
            "For C: 100, ACC: 0.80671731307477\n",
            "KNN:\n",
            "For N: 3, ACC: 0.717699586831934\n",
            "For N: 5, ACC: 0.7556577369052379\n",
            "For N: 9, ACC: 0.7616508951974766\n",
            "For N: 15, ACC: 0.7589408680972056\n",
            "For N: 25, ACC: 0.7356035363632325\n",
            "For N: 35, ACC: 0.7165978053223157\n",
            "For N: 45, ACC: 0.7057488115864764\n",
            "SVC:\n",
            "For C: 0.01, ACC: 0.6872850859656137\n",
            "For C: 0.1, ACC: 0.6872850859656137\n",
            "For C: 1, ACC: 0.8094317828424183\n",
            "For C: 10, ACC: 0.8094317828424183\n",
            "For C: 100, ACC: 0.8094228975076635\n",
            "Decision Trees:\n",
            "For Max_Depth: 1, ACC: 0.8094317828424183\n",
            "For Max_Depth: 3, ACC: 0.8056333022346617\n",
            "For Max_Depth: 5, ACC: 0.7877071393664756\n",
            "For Max_Depth: 9, ACC: 0.7475454262739347\n",
            "For Max_Depth: 15, ACC: 0.7030387844862056\n",
            "For Max_Depth: None, ACC: 0.7073703851792617\n",
            "Naive Bayes:\n",
            "ACC: 0.8088853347549867\n",
            "Random Forest:\n",
            "For n_estimators: 5, ACC: 0.7556755075747479\n",
            "For n_estimators: 10, ACC: 0.7540672619840953\n",
            "For n_estimators: 25, ACC: 0.7828601892576302\n",
            "For n_estimators: 50, ACC: 0.7812164023279577\n",
            "For n_estimators: 100, ACC: 0.7893509262961481\n",
            "For n_estimators: 200, ACC: 0.794237860411391\n",
            "For n_estimators: 500, ACC: 0.7936914123239595\n",
            "For n_estimators: 1000, ACC: 0.7958549913367986\n",
            "XGBoost:\n",
            "For learning_rate: 0.001, ACC: 0.8072593184948242\n",
            "For learning_rate: 0.01, ACC: 0.8099737882624727\n",
            "For learning_rate: 0.1, ACC: 0.7947709804966903\n",
            "For learning_rate: 0.5, ACC: 0.7621706872806432\n",
            "For learning_rate: 1, ACC: 0.7458794260073749\n"
          ],
          "name": "stdout"
        }
      ]
    },
    {
      "cell_type": "markdown",
      "metadata": {
        "id": "rmeMm7S34HAP"
      },
      "source": [
        "## Submission with the Best Models"
      ]
    },
    {
      "cell_type": "code",
      "metadata": {
        "id": "By6pLN-HBBEd"
      },
      "source": [
        "from sklearn.model_selection import train_test_split\n",
        "X_train1, X_validation1, Y_train1, Y_validation1 = train_test_split(X_train, Y_train, train_size=0.7, random_state=1234)"
      ],
      "execution_count": null,
      "outputs": []
    },
    {
      "cell_type": "code",
      "metadata": {
        "colab": {
          "base_uri": "https://localhost:8080/"
        },
        "id": "hiIYpC6x6ZWA",
        "outputId": "599ad88d-316e-43c8-eb28-5628e84b68d7"
      },
      "source": [
        "#model = DecisionTreeClassifier(max_depth = 15, random_state=42)\n",
        "#model = LogisticRegression(C = 0.1)\n",
        "#model = RandomForestClassifier(n_estimators = 100, random_state=42)\n",
        "model = XGBClassifier(learning_rate = 0.1)\n",
        "\n",
        "model.fit(X_train1, Y_train1)\n",
        "preds = model.predict(X_validation1)\n",
        "\n",
        "accuracy_score(preds, Y_validation1)"
      ],
      "execution_count": null,
      "outputs": [
        {
          "output_type": "execute_result",
          "data": {
            "text/plain": [
              "0.7891891891891892"
            ]
          },
          "metadata": {
            "tags": []
          },
          "execution_count": 61
        }
      ]
    },
    {
      "cell_type": "code",
      "metadata": {
        "colab": {
          "base_uri": "https://localhost:8080/"
        },
        "id": "wKt0mZ8t7KZd",
        "outputId": "c494a557-1f59-4d27-e26d-de684b169075"
      },
      "source": [
        "test.shape, X_test.shape"
      ],
      "execution_count": null,
      "outputs": [
        {
          "output_type": "execute_result",
          "data": {
            "text/plain": [
              "((367, 12), (367, 20))"
            ]
          },
          "metadata": {
            "tags": []
          },
          "execution_count": 62
        }
      ]
    },
    {
      "cell_type": "code",
      "metadata": {
        "id": "Nuqn11J17TsX"
      },
      "source": [
        "preds = model.predict(X_test)"
      ],
      "execution_count": null,
      "outputs": []
    },
    {
      "cell_type": "code",
      "metadata": {
        "id": "79uBBp0h8xrt"
      },
      "source": [
        "df = pd.DataFrame(test['Loan_ID'], columns = ['Loan_ID']) \n",
        "df['Loan_Status'] = preds"
      ],
      "execution_count": null,
      "outputs": []
    },
    {
      "cell_type": "code",
      "metadata": {
        "colab": {
          "base_uri": "https://localhost:8080/",
          "height": 191
        },
        "id": "MMXIFKQ69RlR",
        "outputId": "d48f0d6c-590a-482d-912b-62c7ee50589e"
      },
      "source": [
        "df.head()"
      ],
      "execution_count": null,
      "outputs": [
        {
          "output_type": "execute_result",
          "data": {
            "text/html": [
              "<div>\n",
              "<style scoped>\n",
              "    .dataframe tbody tr th:only-of-type {\n",
              "        vertical-align: middle;\n",
              "    }\n",
              "\n",
              "    .dataframe tbody tr th {\n",
              "        vertical-align: top;\n",
              "    }\n",
              "\n",
              "    .dataframe thead th {\n",
              "        text-align: right;\n",
              "    }\n",
              "</style>\n",
              "<table border=\"1\" class=\"dataframe\">\n",
              "  <thead>\n",
              "    <tr style=\"text-align: right;\">\n",
              "      <th></th>\n",
              "      <th>Loan_ID</th>\n",
              "      <th>Loan_Status</th>\n",
              "    </tr>\n",
              "  </thead>\n",
              "  <tbody>\n",
              "    <tr>\n",
              "      <th>0</th>\n",
              "      <td>LP001015</td>\n",
              "      <td>Y</td>\n",
              "    </tr>\n",
              "    <tr>\n",
              "      <th>1</th>\n",
              "      <td>LP001022</td>\n",
              "      <td>Y</td>\n",
              "    </tr>\n",
              "    <tr>\n",
              "      <th>2</th>\n",
              "      <td>LP001031</td>\n",
              "      <td>Y</td>\n",
              "    </tr>\n",
              "    <tr>\n",
              "      <th>3</th>\n",
              "      <td>LP001035</td>\n",
              "      <td>Y</td>\n",
              "    </tr>\n",
              "    <tr>\n",
              "      <th>4</th>\n",
              "      <td>LP001051</td>\n",
              "      <td>Y</td>\n",
              "    </tr>\n",
              "  </tbody>\n",
              "</table>\n",
              "</div>"
            ],
            "text/plain": [
              "    Loan_ID Loan_Status\n",
              "0  LP001015           Y\n",
              "1  LP001022           Y\n",
              "2  LP001031           Y\n",
              "3  LP001035           Y\n",
              "4  LP001051           Y"
            ]
          },
          "metadata": {
            "tags": []
          },
          "execution_count": 82
        }
      ]
    },
    {
      "cell_type": "code",
      "metadata": {
        "id": "nq9UpXTQUhy5",
        "colab": {
          "base_uri": "https://localhost:8080/"
        },
        "outputId": "0dfd1b00-9359-4fbc-b347-62afd44209c4"
      },
      "source": [
        "df['Loan_Status'][df['Loan_Status']==1] = 'Y'\n",
        "df['Loan_Status'][df['Loan_Status']==0] = 'N'"
      ],
      "execution_count": null,
      "outputs": [
        {
          "output_type": "stream",
          "text": [
            "/usr/local/lib/python3.6/dist-packages/ipykernel_launcher.py:1: SettingWithCopyWarning: \n",
            "A value is trying to be set on a copy of a slice from a DataFrame\n",
            "\n",
            "See the caveats in the documentation: https://pandas.pydata.org/pandas-docs/stable/user_guide/indexing.html#returning-a-view-versus-a-copy\n",
            "  \"\"\"Entry point for launching an IPython kernel.\n"
          ],
          "name": "stderr"
        }
      ]
    },
    {
      "cell_type": "code",
      "metadata": {
        "colab": {
          "base_uri": "https://localhost:8080/",
          "height": 191
        },
        "id": "u630sXpeUqVp",
        "outputId": "32a51f53-52b6-4de8-da29-2dc05d1985cf"
      },
      "source": [
        "df.head()"
      ],
      "execution_count": null,
      "outputs": [
        {
          "output_type": "execute_result",
          "data": {
            "text/html": [
              "<div>\n",
              "<style scoped>\n",
              "    .dataframe tbody tr th:only-of-type {\n",
              "        vertical-align: middle;\n",
              "    }\n",
              "\n",
              "    .dataframe tbody tr th {\n",
              "        vertical-align: top;\n",
              "    }\n",
              "\n",
              "    .dataframe thead th {\n",
              "        text-align: right;\n",
              "    }\n",
              "</style>\n",
              "<table border=\"1\" class=\"dataframe\">\n",
              "  <thead>\n",
              "    <tr style=\"text-align: right;\">\n",
              "      <th></th>\n",
              "      <th>Loan_ID</th>\n",
              "      <th>Loan_Status</th>\n",
              "    </tr>\n",
              "  </thead>\n",
              "  <tbody>\n",
              "    <tr>\n",
              "      <th>0</th>\n",
              "      <td>LP001015</td>\n",
              "      <td>Y</td>\n",
              "    </tr>\n",
              "    <tr>\n",
              "      <th>1</th>\n",
              "      <td>LP001022</td>\n",
              "      <td>Y</td>\n",
              "    </tr>\n",
              "    <tr>\n",
              "      <th>2</th>\n",
              "      <td>LP001031</td>\n",
              "      <td>Y</td>\n",
              "    </tr>\n",
              "    <tr>\n",
              "      <th>3</th>\n",
              "      <td>LP001035</td>\n",
              "      <td>Y</td>\n",
              "    </tr>\n",
              "    <tr>\n",
              "      <th>4</th>\n",
              "      <td>LP001051</td>\n",
              "      <td>Y</td>\n",
              "    </tr>\n",
              "  </tbody>\n",
              "</table>\n",
              "</div>"
            ],
            "text/plain": [
              "    Loan_ID Loan_Status\n",
              "0  LP001015           Y\n",
              "1  LP001022           Y\n",
              "2  LP001031           Y\n",
              "3  LP001035           Y\n",
              "4  LP001051           Y"
            ]
          },
          "metadata": {
            "tags": []
          },
          "execution_count": 83
        }
      ]
    },
    {
      "cell_type": "code",
      "metadata": {
        "id": "ygxg5aDi9oMP"
      },
      "source": [
        "df.to_csv('Submission28_xgb_simple_0.01.csv', index = False)"
      ],
      "execution_count": null,
      "outputs": []
    },
    {
      "cell_type": "markdown",
      "metadata": {
        "id": "8FuFFZCJ73C1"
      },
      "source": [
        "## XGBoost - HyperParameter Tuning"
      ]
    },
    {
      "cell_type": "code",
      "metadata": {
        "id": "AUzut-nBBg01"
      },
      "source": [
        "from sklearn.model_selection import GridSearchCV\n",
        "\n",
        "#XGBoost hyper-parameter tuning\n",
        "def hyperParameterTuning(X_train, y_train):\n",
        "    param_tuning = {\n",
        "        'learning_rate': [0.001, 0.01, 0.1, 0.5],\n",
        "        'max_depth': [3, 5, 7, 10],\n",
        "        'min_child_weight': [1, 3, 5],\n",
        "        'subsample': [0.5, 0.7],\n",
        "        'colsample_bytree': [0.5, 0.7],\n",
        "        'n_estimators' : [100, 200, 500],\n",
        "        'objective': ['binary:logistic']\n",
        "    }\n",
        "\n",
        "    xgb_model = XGBClassifier()\n",
        "\n",
        "    gsearch = GridSearchCV(estimator = xgb_model,\n",
        "                           param_grid = param_tuning,                \n",
        "                           cv = 5,\n",
        "                           n_jobs = -1,\n",
        "                           verbose = 2)\n",
        "\n",
        "    gsearch.fit(X_train,y_train)\n",
        "\n",
        "    return gsearch.best_params_, gsearch.best_score_"
      ],
      "execution_count": null,
      "outputs": []
    },
    {
      "cell_type": "code",
      "metadata": {
        "colab": {
          "base_uri": "https://localhost:8080/"
        },
        "id": "B7_Jsybk83v2",
        "outputId": "7210dd86-8e2d-420e-df81-ace0048badb8"
      },
      "source": [
        "hyperParameterTuning(X_train1,Y_train1)"
      ],
      "execution_count": null,
      "outputs": [
        {
          "output_type": "stream",
          "text": [
            "Fitting 5 folds for each of 576 candidates, totalling 2880 fits\n"
          ],
          "name": "stdout"
        },
        {
          "output_type": "stream",
          "text": [
            "[Parallel(n_jobs=-1)]: Using backend LokyBackend with 2 concurrent workers.\n",
            "[Parallel(n_jobs=-1)]: Done  37 tasks      | elapsed:    3.5s\n",
            "[Parallel(n_jobs=-1)]: Done 276 tasks      | elapsed:   22.0s\n",
            "[Parallel(n_jobs=-1)]: Done 682 tasks      | elapsed:   55.1s\n",
            "[Parallel(n_jobs=-1)]: Done 1248 tasks      | elapsed:  1.6min\n",
            "[Parallel(n_jobs=-1)]: Done 1978 tasks      | elapsed:  2.6min\n",
            "[Parallel(n_jobs=-1)]: Done 2868 tasks      | elapsed:  3.9min\n",
            "[Parallel(n_jobs=-1)]: Done 2880 out of 2880 | elapsed:  3.9min finished\n"
          ],
          "name": "stderr"
        },
        {
          "output_type": "execute_result",
          "data": {
            "text/plain": [
              "({'colsample_bytree': 0.5,\n",
              "  'learning_rate': 0.001,\n",
              "  'max_depth': 5,\n",
              "  'min_child_weight': 1,\n",
              "  'n_estimators': 500,\n",
              "  'objective': 'binary:logistic',\n",
              "  'subsample': 0.7},\n",
              " 0.8018057455540356)"
            ]
          },
          "metadata": {
            "tags": []
          },
          "execution_count": 72
        }
      ]
    },
    {
      "cell_type": "code",
      "metadata": {
        "id": "rhqZmxmMR_3D",
        "colab": {
          "base_uri": "https://localhost:8080/"
        },
        "outputId": "b00643ef-1e08-4a5e-f82b-98e096ca1c80"
      },
      "source": [
        "model = XGBClassifier(colsample_bytree= 0.5,\n",
        "  learning_rate= 0.001,\n",
        "  max_depth= 5,\n",
        "  min_child_weight= 1,\n",
        "  n_estimators= 500,\n",
        "  objective= 'binary:logistic',\n",
        "  subsample= 0.7)\n",
        "\n",
        "model.fit(X_train1, Y_train1)\n",
        "preds = model.predict(X_validation1)\n",
        "\n",
        "accuracy_score(preds, Y_validation1)"
      ],
      "execution_count": null,
      "outputs": [
        {
          "output_type": "execute_result",
          "data": {
            "text/plain": [
              "0.8324324324324325"
            ]
          },
          "metadata": {
            "tags": []
          },
          "execution_count": 73
        }
      ]
    },
    {
      "cell_type": "code",
      "metadata": {
        "colab": {
          "base_uri": "https://localhost:8080/"
        },
        "id": "_wAF6ZX9tAuw",
        "outputId": "dfc5f922-1d07-419c-8a65-62bec3d672f8"
      },
      "source": [
        "test.shape, X_test.shape"
      ],
      "execution_count": null,
      "outputs": [
        {
          "output_type": "execute_result",
          "data": {
            "text/plain": [
              "((367, 12), (367, 20))"
            ]
          },
          "metadata": {
            "tags": []
          },
          "execution_count": 74
        }
      ]
    },
    {
      "cell_type": "code",
      "metadata": {
        "id": "RxIvKm3ztAvJ"
      },
      "source": [
        "preds = model.predict(X_test)"
      ],
      "execution_count": null,
      "outputs": []
    },
    {
      "cell_type": "code",
      "metadata": {
        "id": "m5AihtJstAvJ"
      },
      "source": [
        "df = pd.DataFrame(test['Loan_ID'], columns = ['Loan_ID']) \n",
        "df['Loan_Status'] = preds"
      ],
      "execution_count": null,
      "outputs": []
    },
    {
      "cell_type": "code",
      "metadata": {
        "colab": {
          "base_uri": "https://localhost:8080/",
          "height": 191
        },
        "id": "WVCXGwBmtAvK",
        "outputId": "f8c35970-91d0-4ea0-cc19-3326954f011c"
      },
      "source": [
        "df.head()"
      ],
      "execution_count": null,
      "outputs": [
        {
          "output_type": "execute_result",
          "data": {
            "text/html": [
              "<div>\n",
              "<style scoped>\n",
              "    .dataframe tbody tr th:only-of-type {\n",
              "        vertical-align: middle;\n",
              "    }\n",
              "\n",
              "    .dataframe tbody tr th {\n",
              "        vertical-align: top;\n",
              "    }\n",
              "\n",
              "    .dataframe thead th {\n",
              "        text-align: right;\n",
              "    }\n",
              "</style>\n",
              "<table border=\"1\" class=\"dataframe\">\n",
              "  <thead>\n",
              "    <tr style=\"text-align: right;\">\n",
              "      <th></th>\n",
              "      <th>Loan_ID</th>\n",
              "      <th>Loan_Status</th>\n",
              "    </tr>\n",
              "  </thead>\n",
              "  <tbody>\n",
              "    <tr>\n",
              "      <th>0</th>\n",
              "      <td>LP001015</td>\n",
              "      <td>Y</td>\n",
              "    </tr>\n",
              "    <tr>\n",
              "      <th>1</th>\n",
              "      <td>LP001022</td>\n",
              "      <td>Y</td>\n",
              "    </tr>\n",
              "    <tr>\n",
              "      <th>2</th>\n",
              "      <td>LP001031</td>\n",
              "      <td>Y</td>\n",
              "    </tr>\n",
              "    <tr>\n",
              "      <th>3</th>\n",
              "      <td>LP001035</td>\n",
              "      <td>Y</td>\n",
              "    </tr>\n",
              "    <tr>\n",
              "      <th>4</th>\n",
              "      <td>LP001051</td>\n",
              "      <td>Y</td>\n",
              "    </tr>\n",
              "  </tbody>\n",
              "</table>\n",
              "</div>"
            ],
            "text/plain": [
              "    Loan_ID Loan_Status\n",
              "0  LP001015           Y\n",
              "1  LP001022           Y\n",
              "2  LP001031           Y\n",
              "3  LP001035           Y\n",
              "4  LP001051           Y"
            ]
          },
          "metadata": {
            "tags": []
          },
          "execution_count": 84
        }
      ]
    },
    {
      "cell_type": "code",
      "metadata": {
        "id": "Y7saTDr2tAvK"
      },
      "source": [
        "df['Loan_Status'][df['Loan_Status']==1] = 'Y'\n",
        "df['Loan_Status'][df['Loan_Status']==0] = 'N'"
      ],
      "execution_count": null,
      "outputs": []
    },
    {
      "cell_type": "code",
      "metadata": {
        "colab": {
          "base_uri": "https://localhost:8080/",
          "height": 191
        },
        "id": "loMUoXHztAvL",
        "outputId": "9c402115-c12d-43c2-a31a-03cd1f8813e8"
      },
      "source": [
        "df.head()"
      ],
      "execution_count": null,
      "outputs": [
        {
          "output_type": "execute_result",
          "data": {
            "text/html": [
              "<div>\n",
              "<style scoped>\n",
              "    .dataframe tbody tr th:only-of-type {\n",
              "        vertical-align: middle;\n",
              "    }\n",
              "\n",
              "    .dataframe tbody tr th {\n",
              "        vertical-align: top;\n",
              "    }\n",
              "\n",
              "    .dataframe thead th {\n",
              "        text-align: right;\n",
              "    }\n",
              "</style>\n",
              "<table border=\"1\" class=\"dataframe\">\n",
              "  <thead>\n",
              "    <tr style=\"text-align: right;\">\n",
              "      <th></th>\n",
              "      <th>Loan_ID</th>\n",
              "      <th>Loan_Status</th>\n",
              "    </tr>\n",
              "  </thead>\n",
              "  <tbody>\n",
              "    <tr>\n",
              "      <th>0</th>\n",
              "      <td>LP001015</td>\n",
              "      <td>Y</td>\n",
              "    </tr>\n",
              "    <tr>\n",
              "      <th>1</th>\n",
              "      <td>LP001022</td>\n",
              "      <td>Y</td>\n",
              "    </tr>\n",
              "    <tr>\n",
              "      <th>2</th>\n",
              "      <td>LP001031</td>\n",
              "      <td>Y</td>\n",
              "    </tr>\n",
              "    <tr>\n",
              "      <th>3</th>\n",
              "      <td>LP001035</td>\n",
              "      <td>Y</td>\n",
              "    </tr>\n",
              "    <tr>\n",
              "      <th>4</th>\n",
              "      <td>LP001051</td>\n",
              "      <td>Y</td>\n",
              "    </tr>\n",
              "  </tbody>\n",
              "</table>\n",
              "</div>"
            ],
            "text/plain": [
              "    Loan_ID Loan_Status\n",
              "0  LP001015           Y\n",
              "1  LP001022           Y\n",
              "2  LP001031           Y\n",
              "3  LP001035           Y\n",
              "4  LP001051           Y"
            ]
          },
          "metadata": {
            "tags": []
          },
          "execution_count": 86
        }
      ]
    },
    {
      "cell_type": "code",
      "metadata": {
        "id": "JcT80FEqtAvL"
      },
      "source": [
        "df.to_csv('Submission30_xgb_hypertune.csv', index = False)"
      ],
      "execution_count": null,
      "outputs": []
    },
    {
      "cell_type": "markdown",
      "metadata": {
        "id": "R2iBRI_wIVaD"
      },
      "source": [
        "#Summary"
      ]
    },
    {
      "cell_type": "markdown",
      "metadata": {
        "id": "ysrnx_O7Ibtd"
      },
      "source": [
        "Best Submission Score: 0.8125\n",
        "\n",
        "Best Model: XGBoost with Feature Engineering"
      ]
    },
    {
      "cell_type": "markdown",
      "metadata": {
        "id": "n4U5P58YItdh"
      },
      "source": [
        "![image.png](data:image/png;base64,iVBORw0KGgoAAAANSUhEUgAABEgAAAB5CAYAAAAqEhTNAAAgAElEQVR4Ae2dj3Ocx3nf9Q9QUiS7suza7jiZiSem3NQ2ZVG022nilJyaburS9XikaVKw8TiMhlMzdDUUU1uKmhETRIpkumZNy2V6HMOVKaMUQpkkLFgiQdIiAZMBYf44giR+kKBwBAXxYFAH3OCIb+d533f33fe99+7eu3vv5/vlDHjA3d777rv7eZ7d/e7us3csW50Af1gGZIAMkAEyQAbIABkgA2SADJABMkAGyECcGbgjzg/PZ6fxkwEyQAbIABkgA2SADJABMkAGyAAZIAPCAAUSrqDhCiIyQAbIABkgA2SADJABMkAGyAAZIAOxZ4ACCY0g9kZAtZhqMRkgA2SADJABMkAGyAAZIANkgAxQIKFAQoGEDJABMkAGyAAZIANkgAyQATJABshA7BmgQEIjiL0RUCmmUkwGyAAZIANkgAyQATJABsgAGSADFEgokFAgIQNkgAyQATJABsgAGSADZIAMkAEyEHsGKJDQCGJvBFSKqRSTATJABsgAGSADZIAMkAEyQAbIAAUSCiQUSMgAGSADZIAMkAEyQAbIABkgA2SADMSeAQokNILYGwGVYirFZIAMkAEyQAbIABkgA2SADJABMkCBhAIJBRIyQAbIABkgA2SADJABMkAGyAAZIAOxZ4ACCY0g9kZApZhKMRkgA2SADJABMkAGyAAZIANkgAxQIKFAQoGEDJABMkAGyAAZIANkgAyQATJABshA7BmgQEIjiL0RUCmmUkwGyAAZIANkgAyQATJABsgAGSADFEgokFAgIQNkgAyQATJABsgAGSADZIAMkAEyEHsGKJDQCGJvBFSKqRSTATJABsgAGSADZIAMkAEyQAbIAAUSCiQUSMgAGSADZIAMkIGoGNh4HDv3D+OxjVF1Mruxvusidr7Yi+VR5ZHXIe9kII+BVTuSSLx0DKvClk1HPzr3J7H18e68a3GQHZX/43XIUv0ZqEAgGcShOWD+/DCWrT6LoRyQHhqkYwjrTJs83dahLOx/WRza6QVSfzY3ha1N/hx0Jt66Y3mwPJqNgeXbzqL3ShbzOcfl5HJIp6awfRs7ms1WV82Un2i4sfsxQl70/Zd+9NxwmB67GE3f6OUZzFuXzOLQjhr5sp1TSDvZLvySRqLubX8t66pGZVn3Mmqv59B9TR+I87Np9Hb3104k7JxAyrlncn+4Mt1+wWnAZqewuQnqPXFFHqARdhquvBrelmg/195ltPaNOYfkDHqfM+qmI2mN260Pr1zMsyXX9nzfs9i+iKRzVc9LLovUhVFsjmxCwMlvr2qRGlNX5QskT0xgHMB4XzeWdU5aziSsI2m4YTSB82r2MnCNA0BqAuuMMtOfUSCJptNrlG2zc8H8GQ0M6616/p+8iKTSYgHMZ5RKAiCXQY/ZoLO8qy/vdinDyLip5aC7G2rQlBqIaPLouQmkxESyaSSeqJEv2jGJ8UzOskWvPbrvzWdmsLPuLNWyrmpUlnUvo/Z6Dt3XdNoGD4/IIdnbV71P1ANlYzKw4yysOcJcBr2+CcJCfaDHjmWsseL82EWsrXe9BwwgKZCUsAVd740ZdBfiKNr3e9GjlL6ASYDtlxx5IzeD7R5m+9H7jvPZO5NY7/lMytUQSLJOu2B03TAb8eR5AN/RllNxVsoXSLqmMY8sDr2YwLL9ou7UcEYjr3KKP0w9C65d72U2TGImyd5e3RDpzyiQ6DJpVw74XPQ1tWRg80lHHcnNYY9aMbLxLIbsviZw6SxtjO1fHgPRccNBd3H7dssHVyJaBVMxz25eol/tQz9fnIPGlE9gX7OjH3uuOKOxvIFdBfnUA2VDIKmY0QruH8W9AgaQlkCSmUZnFNdvx2voem9jgcRZvOBIHUBmGk+bddk9oxQSnOgy2HUWQMiHqTf789pfUyBJ9qrvdWN9X9pZ4QgMdav3I3gN4Lue/iq8QKIzqovc+0vDG9EIKsMEKKa/64ZJ1a442g67bPVnhkAiy50PpYyp4Lk5HHrZVfdtNVuWMY+i54qbLn0hifXbkhiaVQ1eDuNvDnqWe617eRJJ9bmooLL8/knWcz0dBO9F3mrBgJ7BMHyJ3Oex3mkkx9JIDiXxqOWDu7F+3zRSarWobMMZ8y3l7DiOPWPGVp1sFsm+4+4ectV2zU1hz0lbgVEDreXfGcXQDdcvyRLuPd/hFp9a1HkU1wzHjTugdjtx7nt23Rt/j00jqYS5bBZDr6j2y02TPJbEiRvetmptYhLjmkvzewmods8VF/qwfSCNtJpty+O4xOe6U28O5vqwfWjOuGYW40Nnsd5pr5etdvM/PjCK5KzTqOfy29r8unG/6z6D4wt1XtLo6U3bW+RU/09s8ULGzZNji3bcFPeaxfNjP5faepcem0LSKWdlt/n5pZ9upzIJ6mtaz/ei2gbm2kHxPqjLXPLYRcfO00ioNkH1c/UsuztD7vqO4m1QXl7VtefSODTmti1Wu6VtM4Gw+S5kK/q+xjNIni3fY7WrJXxKwBineJ5cv2bZpPYndnurYiMp3xcqzdAoDlkrFlR9lvJpCSzbGNzeq/sLJ6sSE/ljBzURY/qvV2ZcX9VGbf/6N50G7cacteMDyOFEwvSRdngMQcf0qcsVu8igt9NMr34Psg/5bBgnnFu619uHzX1ppJUJqDZP2YCuhzn0SjrVNmbm0Pui0wfT+XHErI5BHFLczU7h6ai39PhsIrxA8tww9vSN4oTAnEmjV/0+N4OevlHseelYgNqkCpWvrdJ4aac7N4dxBfxJe5mw+5mzjOoJY5m8pFfgyqoiZ3micpaWD8/l3HgD8oYYhOc914iX64ZQFikZ34t6CZfPIFqlnphP+pRWZmD5K2oGA0iPTaDzuX2B7cfa/e7MhPgB/e+dSTxm2a7RYMpybNUYOw2/1WnSjaz+tt0pMLdrmH6oltsY6G8C6zksy+G4MQZFepbLfc8vkFhUmG2Mbr/c7+Sncdovz/fmsMfZ/qLbPUc42KpXTGUxPpaGnlNwOC71+TLdmVRtay8SY649mFsQ5q9cdLbGFsu/29YGl73xXSV+KHZ1Xlx7skWUPiTUDL/HFnNI7peVqMY15auesnPz85jq3Oel8Xbmg/PNdqEdyiWvr6nY0/1Cxw5K9kF9zFnIppGQAfQ1t7FIX0vjxH6ZMc8fAJZqg/Ly6mtvzDZp/tJZexKw3HwH2Mr6/dNIKtEWOaTG0ugxBsElfYoqU/VaMk+uQGIVo9lmIoehbntQq32fJAqTxrqY1GdIn6bGGdkMxo3nt31MAq6v9PmY7Ay2y+Dc579M3wndr2hlP3JMb5NJvTmot9rYcUPd59KTDXorTTd2qq03+j03ve1X8u3Dft8VXNTKE82fsJnK6LGf3opWrB7UihdtSyKQGO2L9NHqMFkeXiCxjMjZ12Q1mI7j4VLoqjp8zdaYmc6+U8M5h54nEzA/kyCta/udaR29nO9UnoqoneWNCWdmy2iwVIwT2ffpiDG2cfVizzXLawLXRu3O3sYkkk5/MNIlXKpx4GtbcdxsdsX8+BvaPmw/4xi9Y+rIZDBkrvwwBlQyqBWxY/k2OwaW2trpznjMoceZIVrXp6b1nQGr9mNA+sJFPN3Zj0cf78bTZxyHIrNt0nHqOO7MZhVaXup/Bv5df67L48adBXbbnTyBZCxprzaS2SkHHbszafx94ayTxu0gShpLgHvSDeyo2ibd7ll9peN61mu8zxECd04iZcX7SGPPX5b63OzUOwND3bnMYehl+5rupIISG4Ly729rCzHsfrfwChJg/tokOnf0Y/2T+7AsIduv5Z9swZbBUjc2Oyu2ZOCx3rDneV2e/vy4M5G6fI22352dLJRvvl9/m4y+zP19TeuZNh7zbLHZ2RGmD2pwnJ1D70vHsb6zz7ZlbUNKdJTncO3b9h3u9wu1QXl51e1Nxm2TVF8Zc+h5orx8F7aVBJbpe/m3i4TwKb4+b2X9+T49AJeYhRKDRfs+3ecvkgZZDO0/hfWdb2Dt/1Wrg4r4NCvEg/gYuxyXrTbGCpav7Xbvr8cOro+x4mWa9e6sVHCF9znsUSscfOXTMnb1nB0b1PLDOw3W/NvS9DYbVZb5Ikf+M/vtQ2xmHzYfU30uFdjV9ePj/XaYBjdorMOqrgcR15w2TAcjd1awGHwfUpMMun2J3u/4n7dMgcR+aLuRsgsqffI4B1atakgB+fY6e9exierXqU648S2LN6FSzlF1ZNTfZidLvafSmDNLJlviBs0AwPnfq72BmM/G31neZCBKBrqx9kXvFhdrfPWOI1jo/bBOzCvLX/Vi675RazVj53MJ6FmQa6PG9jyjEZeTCIxG1j2Bw+j4Gm2Y9n/+WfMAX0kWomShnGuV4MYYiIcRSNx2yJgE8A3o3TQuN+61Dd6cFSuqrbLbPWNmLpvB0MBFdL5gHtdb6vN8gUQvofa0xW7e7H6Z8bc+aTDovaCyd9OZbbfFvO7YmgNLo+zM0zx0WukUu9cMKk/rPb133rT5oO8F5ZnvtYtP0n7YahD8/xUP0qpsz2asCDuaTZNjny2HaIN0XpUtBrU3HaPOVofCMRpK5zvgWYLuZbVVIXxKiDbNmydD/DDax+VqQsIZgKvvmH4jTJpwPi3fxnX5W3kyBuZykIjzjI+9ZPcZ5Jh0dwWJISoFspB/L3W9Zn7V5aEmrrVP9bFnnGaT7O3GMi0+FdpeI+Xh2offKuXv1ElvmARPOeky9gskhv3pNM57mm/3bmLX5nYqzz1CMF1O+pACSfFCUUpVOTdm2uY0Pm1cytlrYHMYV+uC1WeiHPbNIDXnLvVVGKsOUJCzVO+pNHkCyQ6lJKureV/9S8XIUnOyxHphvYRmYOMxdA7M6UBf82dOGR0ZowH1NYDKl5idMdOfWINY3cgaHaISDb2aDQudf1+++L06sR/EjTEQd0UM/+DC/7edX2/7F5TGfc+9tts/Uu/lcfmkxOrytZNZI15Xqc91O2zbgjefblmr+xYeHLr5d9tf9/sut246r23lizXqO4kxbzvt/UtmKd1ruvf2ved7TvvavjS0NT3wU2Xfbq+ab+MUG9kKkb4xg54u85jfUn3QIuwEsuaz5cA0XnvReVX94hLtje0jKsl3wLME3svJXymfkmdHpfIULJD4JyCUD/L4DV8+g9LklaOTP5XW9hndWN/tjU2o/YwlkPjqL+8ZTf9l9AdC1HNr2Ji7it8NdO9yg0tJQ1wwRLRLZ90dAgW31whXbvlaWyRlFaTTrMlKJ1O4kHg2vVeM2HC6oqoTSPSugqC6jfi9kALJMXRKnJEzsowmh+TAKPacl+XROSTfFGUuia21Onou4gduDci9Drieec53Ut3YfsnXsXMaAnfJVNZmQsWlMQL/KOdmOkv1XsFOkmGE6VTaDtoogRvVz7FTbd9BqGed816Ns7d4lv0wTszaR8SN93sjpesVITILHTh71421f9WP9Z39WLcxmhUk8+8YvkX5mDMXA464IyeN5TUkN1EIJJGuIHG5WfXkKezsd4OOIjcD2SqgyrXg574OfLjZVrdjXLitde+t8mC/ut81227rM19e1Pd03yGTcdtqZU9j00h0utcsmB8928kVJKpc4/iqWVKiQ4FxQOk+aBBzDvOBHLsDQEvICNEG5eXVJwZY9adXkOSsU0Mqy3fAswTdy1dWBX2KL13pPAULJHp1iLNiQfXvTb8RJk0on6a38eWQOjNhrSTtVXGPiqwgWfWk3WeQrbVtvYJEl49WI7y/+NobvbUoN4dx53jf1ECxeKI++5DA+jpmlNpeI/blCjXzN6btOKUDKp5cZQLJ/I0M5NxcS3ewYloVaruiez+kQGLf0Ibc3qNlw2wocD5ji6NTb4dnznP2Uq8SvMnUSJxGSztCvby9Dz03bHtUHSCdxliSp95TacwZX/s99yzu+SujblT+jaewp69+y6vaoT75DNE5S5ZlVGVp7Bs2I5EbMSBklmC5MdAVv2DHexjFuOWL7AFUeTFIvO2VKcboaOgd/djZl3SCXEb1vLxONLZTPjc6jsWTihsV6NMdbOgZKYM/e5WimyaorVKrRcxZNfWeauPsQYLqVBoroTaqJffyXqnPzVlP5xp6cFdkv77Pfuw6CHqmID7ddOZAx7qGvrfxPNJP0HvasziUUEGX5QSQUey0Auq51wwqT/s9t2Odb/Oq7oLyy/eisbHmKMfAfmjAGEPbWcE+aBBzzjOaHL+onlvZImDbsvf7QW1QXl61aBEcg0QCOVeWb29erPrW9/LHzlDPYdiox+eo53VfS+fJyHdQfJFro6VjkPjTGOMCV7go7NPyynp1N7ZfcAYn1rUCYpAYfn1ctt3oejf6A/o9o7wCeGt2G9Nx1Xwrr8xAtNZ2GvVsxjYbe+RmihwuG+5zK66UfUjstrNQ0Rf0ChWzPB3bWq7ji1QikAjf3eg879R1nQLplyWQWHA6KqHVuSyh7rqFGlTQfK8ZyyffAdn15KqEEh/JPsXGfE8M0BOt+/ywNSumna7hCNV7hTtJCbgB55xI2Bml0ORw4iWy04zsME/kMjQDEqRSmbTTmNsNtD1DoCLir5NjRNUHZiR/HW2+nFNsjA6RdBDMU2x8eRjvf0PP6od+JtXp4Gvtyi4kN2ZH0XP6kV7d6A42LLxMtgJOsQlqq5QYUlogMVZh5uxTbPTxwNapbKU+DxBIVoc88cGJnReUf/e9IL9llI/Rdlu2YHZ+ndPqbBsxThmQQjXLNDWBR0MKNma/wnMNXXdB+eV77eSnCvVD/c9oshLcB3U5zuO9wx3sWaetXLro2UKg7LtUG5SXVy1a2A2Xp1/snGJTWb4DnkXbom1vqQH7xEkJkKxXfgf6nHx7KZ0nQyCRRwtzQk2pNB7fUtqnLe+e8fYH3IOIoLbFesYOpg/KO8XG6A/ocmxlgcSNv6KFCt0XcdmRCQEJpmvbkrHNRupU96vU5/5X12aUfch11ukgxE75maKJMKDHb3ITJyhsUJn739O25NSVcV19IpR+Fn9eq/+7DIGk2z5ZxIpU7Mzwe+CuPjN+58e/61+mec5ew2cYmBbG7DPL9R601BR61dGD/ojWBithBBKp+1U7Rj1nmWPOPuXC3OdGRurPCMucZR4FA8u3DaPnQgZpUyiZTaP35T5jgC0z0NNIqSDpuRzSY6PYvNGog47j2DNm7HXNZpE0T8PxN7Lap8mpOBIbwvfdgbNcQWKUURR1HeU1QnHTMYheQ4FLX0iixzkZzR4oue3Z+PkpfaQ9slkMvaL4c9O4gyv3PbeDmN9pVG2cXn3R0Y/tQ3Mu68LxlUlsV0cVlvrc33G06sduf7X9yEBo6Ky74jKkIBFcN+5z6mdQTATmxbFH9Rxq4OJ5TveaQeXpvufvV0zihKfuDNtXeeKr4TNbv3wK90P9z+Znxd8HDWJOXaMbm/vTOoaCDCqDxE4RG4q1QXl51e1NBkMXlCHIcfaj2Ky301WS76Bn8Z7qlXrTODRD2aJqXz22qMrAfC2VJ0MguTGDIXXcbs5ub1W/XPu+MGmMcYHth+w8FPZp3djcl3b96GwaPeo0PBWUVMYOcozzrHpwIJ2awnbnlLt2XUGit8vA3sbl9+uPDahTA93j6CWN+z2g+PYaYSW/rbPu02GIM1cuWgLM8u/I+M0WCSGMHJtGyvrTyV9QO+J/T9uSK2a5pxTKddxAvP7njeLvMgQS05D4exSFz2uQIzJABsgAGSADZIAMkAEy0AYMBAzq2qVetfiRJ2y49RYmTbuUB5/Drfd2LAsKJJx5aKuZh3Y0Uj5Tezth1i/rlwyQATJABshAGzBAgcReNlBERCHnbcB5DMbOFEhiUMl0RnRGZIAMkAEyQAbIABkgA2SghgxQIKFAwnFlW0y8UyAhyG0BMhv8Gjb4tBHaCBkgA2SADJABMkAGyAAZIAMxYIACSQwqmeIBxQMyQAbIABkgA2SADJABMkAGyAAZIAPFGaBAQoGESigZIANkgAyQATJABsgAGSADZIAMkIHYM0CBhEYQeyOgilpcRWX5sHzIABkgA2SADJABMkAGyAAZiAMDFEgokFAgIQNkgAyQATJABsgAGSADZIAMkAEyEHsGKJDQCGJvBHFQQvmMVPzJABkgA2SADJABMkAGyAAZIAPFGaBAQoGEAgkZIANkgAyQATJABsgAGSADZIAMkIHYM0CBhEYQeyOgilpcRWX5sHzIABkgA2SADJABMkAGyAAZiAMDFEgokFAgIQNkgAyQATJABsgAGSADZIAMkAEyEHsGKJDQCGJvBHFQQvmMVPzJABkgA2SADJABMkAGyAAZIAPFGaBAQoGEAgkZIANkgAyQATJABsgAGSADZIAMkIHYM0CBhEYQeyOgilpcRWX5sHzIABkgA2SADJABMkAGyAAZiAMDFEgokFAgIQNkgAyQATJABsgAGSADZIAMkAEyEHsGKJDQCGJvBHFQQvmMVPzJABkgA2SADJABMkAGyAAZIAPFGaBAQoGEAgkZIANkgAyQATJABsgAGSADZIAMkIHYM0CBhEYQeyOgilpcRWX5sHzIABkgA2SADJABMkAGyAAZiAMDd4xeeQv8YRmQATJABsgAGSADZIAMkAEyQAbIABkgA3FmgAIJBSIKZGSADJABMkAGyAAZIANkgAyQATJABmLPwB337T4I/rAMyAAZIANkgAyQATJABsgAGSADZIAMkIE4M0CBhAIRBTIyQAbIABkgA2SADJABMkAGyAAZIAOxZ4ACCY0g9kYQZ4WUz84ZAjJABsgAGSADZIAMkAEyQAbIgM0ABRIKJBRIyAAZIANkgAyQATJABsgAGSADZIAMxJ4BCiQ0gtgbAdVSKuZkgAyQATJABsgAGSADZIAMkAEyQIGEAgkFEjJABsgAGSADZIAMkAEyQAbIABkgA7FngAIJjSD2RkClmEoxGSADZIAMkAEyQAbIABkgA2SADFAgoUBCgYQMkAEyQAbIABkgA2SADJABMkAGyEDsGaBAQiOIvRFQKaZSTAbIABkgA2SADJABMkAGyAAZIAMUSCiQUCAhA2SADJABMkAGyAAZIANkgAyQATIQewYokNAIYm8EVIqpFJMBMkAGyAAZIANkgAyQATJABsgABRIKJBRIyAAZIANkgAyQATJABsgAGSADZIAMxJ4BCiTFjGDXAbznmR7cs+knuLvjJdz5pR/izrW7sWxNAstWJ6xX+Vvel88lnaS/b9eB2INF9ZXqKxkgA2SADJABMkAGyAAZIANkgAy0EgMUSAIEEhE57v7qj10hRMSQcn7WJKzvW2JJwPVbCRDmlQ6NDJABMkAGyAAZIANkgAyQATJABuLAAAUSQ8C49+lXcNdXusoTQ0oIJ3I9uW4cYOIz0mmSATJABsgAGSADZIAMkAEyQAbIQKsyQIFk90G8d/ur1haZslaJlBBG/NeSLThyn1YFhfmmkyMDZIAMkAEyQAbIABloNgbe+8I+3LOl21q9fdeXu3DnF4zt8GX21/39d/5d5ir6Sst7TcKqN6k/WcUv9Sn12mysMT/x8H+xF0ju/dbeyrfSlOsE1iQg96NxxcO4WM+sZzJABsgAGSADZIAM1ICBXQesQbQMqCli1EnEKHfcE0F6qV8RSxjfsQY2ZOyioI/ylm+sBRIJqtoIpyr3JYheEFkeLA8yQAbIABkgA2SADJCBUgzIgNlaJRLBALwR4wDes3xBR+rbEko4qOcYsg4MxFYg+Y2NLzdEHFFOUe5fqgHg5+wkkAEyQAbIABkgA2SADJCBg9aWi7se/VFD+++qH8/X8kWOKMpM6p9bb+gPa+0PYymQNGrliN8xcCUJDbzWBs7rkzEyQAbIABkgA2Sg1RmQAw+WrWnMoNzff+ffDa4HCVnAAzA40V7DlSSxE0ismCNNtCSPMUnYaWn1TgvzT4bJABkgA2SADJCBWjFw7zf3ctVIE41dmkUgEi5qxRyvG29/FiuBRE6RaTr1eU2Cp9vUUAGkg4u3g2P9s/7JABkgA2SADLQuA9bKEYoDFIgKMMCVJK1r283sl2MlkMhRu82iepr5kHw1MyTMG50PGSADZIAMkIHqGHhqx1chPyzH6sqR5Ref8pNYE003sVlgoG726/l7HbfgyEQzjwNmuxLxZHtsBJJmV6CpgManwWfnjnVNBsgAGYgXAyKM4K/vsH4qEUl+638di7QD/OH//Uak12tXnj/yvaN1K6eP/s8TdbtXq9QXA7LWUWhoYeFHOGkVppnP1mj7YyOQ3PWV5j4nXfJHo2kNo2E9sZ7IABkgA2SgHAZMgeTbG57B7/7Nr0K1+ZLuwT98Fx9fcRvv/9ASPr5qEQ99aQ4r/yyFFU9ewse+/Ut84O9fC3Wtj//dP+Lhr03jgYcX8cCn3Out9F3v/sTPQl2vnOdvpbQf+sEbeOgbV/CJf53FAytuW+X18J9OQ8ov6ucw7yV1LHUdlo2o89Js15MjXbkSgwJJWAZ4BDDb5Ch9WCwEkvc809MSTlbyGWXl8lp0FmSADJABMkAGGsvA8udPYfnKRXz7j/4WJ77/LB77BvD+Dy7hY59exENbxgPbfXl/+acXrXSS/mcngO4+4IUfAJu/CXzpPy3hwX+5hA98eMkSOz70m0v45OeyWPlH71jXlMG8rBL59F+M4qEv3rLElQ98aAn/4ZElPPs9oP9X3uutk+t9dgmSRgbqq/7zO7g/0RuYt3rxdP//qZ9Q8+EfHMJKEUV+L4s77gA++wdL+MtngdcGYJWXlJuUjYhUUp5Srh/c9fOKykdEkaB7/cNhhGLDLH8R3ipZkWReoyl/33UAd35hd0v03cMO4JmutmKP8HLfrgMV2WRT2kDEW0b4jOX1A2IhkNz91R+3hJOVfBLg8gBmebG8yAAZIAPxYuCRxxatQawMZP0/H3/wNj763eNN05au/NPrVh43bQV+edn788y3gU88vIT7P7iElf/lbfzOC7/Eyj+5Yf0t78vn/u8E/X38PPDSfn1TIfoAABxCSURBVFjp/2Qj8K/WLOGf/eaStfphxWeW8PUn7M+Dvhv03t6fA2u+eBvv+6dLWPnnkw0py4c3ThUUft5X4QoXEXxkxY2svFm5IQVZOSMrckT0kBU1ShTpHy5c7lLOX98KSLk+8ODtPP4Uj0U/C3EvPxsf+f6RvHowVyW1m0jC1SO1FRPaVazhKpJ49QVq2fcrTyC5dAtB/9JTyTzHLZlecW4WCwAKfV7LB9PX3nUgkgBPq3ZcxKGxDNJZowRyOczPpnFo/yDWdkTgzNYkml/9HJxBGsDIpRYywr3n0P32AtJLTt0tLWJiagyPeNTZJI6Ydaur+Ra6POkOYkX/Zbx6cxHX3wrg/vUx9KUXsaDulVvEyOVzWOG7huaT7wf6DpZPC9lXhQyv6J/A8MJtbWkL797Erv7DxXkQW74Zzr6qt9OrGNG5M37JzuAp9cx7T2PX20Z+FhcweOG0x97DPGezpWl2+wsa1Kv3OjYAn/73t4pzpOovxOtvf/fNiq71iW3nrK0ZKz5zG3sOFh5wS74T/w/4d19egog78ip/q+ep5rXYQD/Mdb/3Q+CfP7iE3/lUDp/6q4D2LkT5lcvSR17sxydXz+OBTy7hh/9QWPhRQoT/tZQwIStuZOWNrMCRlTiyIkdW5hwaKr/Mj54t/ztS7uXUi8mG/1k3f/bZquLalFs39Ux/15cj3Bb/3CRSAObPnCprsnTrUBaYm8LWErE5wqZrV1Ei/HNdRFLGhEODZdVD+OsnINzUk9PmvNdhbDidwsjCAo4MFupLRpRm72nsmLyFdE76SIv59ytTN2im8ixLIHlqahFYvIW+y2+h2/jZdXIgH8i9lzG4aHcqGymQVL+9pg87LwSOnI0eM4C5GezcVv1+yabfZtNyAslJdKVvA7kFDI6MYMPRc9g1tWAJd9evnjG4tQdD12942e6+fBmbnE7g545NWOKHqvg8rvcmcUQUwewtvPqrc9hwdMQazAG3MXyuxMCvBh3NZnI0zEuhRiqu74/Y7cPCLLpOncaGU1cxLLazeBPbCtrCALpuiqCyiGHLlkfQ9bY0Ml77isxOLV93GyOTPp9wIYl1Th63XQ/Oz+CQqtcwz9lsaVTem/e12OD+8Glg2V3Ax58bMvx7ec+iY3WsXLREi3LiQkj8iJV/mLG+F7RqpFjef/Kzygbcxa4ZxWff+hvgfR8APv35eTxQgzgcqn148FuX8E/uX8Iff614OZwYKf55oWceqPB7ha5Xz/dfGwx+5qsHnoX8qDJsh1fr5JoSokQ5g+bHBjJ2ty03g+1lXDes8BE2XTl5bs+0tRdIpNzie6LNL7Dp/DRG9JA1QLDYHVWag7hPjXlyCxienMC2o/+IdXu9bW1ZukHBvp/3mvXycWUJJM/fuA2Ys2cFH+YwrELJ3rIqKm8gWfB70RfCPZt+UoVS2Y3O85YspsbExV+zM9he5UoSyW+9Kr+i+7SaQDJgr3iZGDNFvAG8OgdgYQZbFIuvpTBRdGWMs8Jk4Rb6zk9bafO4HpEVVrfhDo6EZ0covHm1uetVlQNfWU/1YODcbP5sg+Nbhs8VagdsEdNrd45davuK0E5P38RC0IyILp8xDC/5V0g6958ZszkK85zNlkY/X6F6aPz7pQam/3UL8Mk/WAhtyxJLQmJKrFznxur44qN2rI5Xj4aLC2HGDPmzbwB9BQa0pfLerJ8PXATWb7Tjk3zy97J46BtXIbE0KupHBDD28KNpSxz5u+8HCwHNWi7Nkq+o6qEZrhPt9ppBHJoD5q+krVUkQ6+En8gMK3yETdeeokc5q+frI5DEdpuN04dKp6ex66qIggECSVRpdh/GjhmZfL6FrtcL9wnC6waFr9Eon1SWQNIleyvSIQZ6x6Zx3ZrVszuL3g5tfQvh7o6XKhdInhjFuCmJZDPo7erFckeBXv74IHqueQWU1MCxyu+3OgHJb6NgsO97GBsu3MR1Z/UPlm4jffMtbFGqoBJIJsZwZM5ZHr90G9eve7esrDj+FkaM5fPpuWls+6lZ93KfWWdZlthxBkcmZpE2DNrizS/IWcu11LYXNWCacFZq2JWVTqfc/J5KYfjmTXQdNe99EDve9ol91nMFOBPdkRvAhv5fOHWj7utdcrz+wgxGbqZ8M+An8eq7Ie1G38ub18bywLyw/KNnwBLQl2axw8N8kOBg3jvI7vwCSYR26vE1Zj6c3x1f6Bd0dszIKjJ7G06Y52y2NK3Ae5hBqcSVCLMtRAKoytaWT60qHavDHxei0pghYfLfrGlkhY4EL5V4HbLlQ056kYCjH/5+Zaskf/fZ0/jov8jh9z9/Gz8/SXGk0npvBbsNm8dI4wYmpjGPHE509aP3HQCXkroP7xUs+rB9aA7zTpd+PjWFHlk9nrfFJmy6IOHA/q69HUHaiSyG9vX78mOLCOMDo0jKPIL8y+UwPnQW6zyrX0Km65WB2xx6+9P2s125aIxR8vOT7Dvuy488R366/HwnsKzjOPZcyOgyxNwcDr3cZ9xPCSRJ7BnTyxyQvjKBzVVOLpt1Gdt4jq+dxgY1zrL6LwFjmqjS7LX7Y97J5/x+UmjdwNMXzL9OWN8RZboyBJLT6LMEqUU3lkNuEcO+/db37T5pz86nr2Ld7sYLJHd+6YeGcQY5rCLvdUtP1/2XerM//1odtsHrVKkJrPU4sSLXD0gn+Y2ygsu+1pDMmgLpGxPYcvQ0to2IaCGLLcbsffXOoECEk4nJy9hyVC1zB4bPOx2k1+3VGAu/TmHb0dPY8qtpTEij8+u39NL0FSftlR0Lv57G8wOnseX8DK5bDZNr0GEFEin7629fxbaj5/D8ZMbePjNpbp/xG9sZm2U1yyuGac3iAumioo66TtBATX3me907Yc0yX796urH12oTOp2w2+Qxtw1DwrEKp9sKdseg+JmLlL7Dp8i0s+LbYuFxVZ6cbroonvI20vMg/EYvfnsAGJRYXWGFir560BZIwz9lsadzy8/myJrK/MIPI/74N1skxpZ5Hjrzd+N/KG5ibcSGijBkS5rmaKY3E0lBiiXlssP8Y4vcnfuYNjvofvcFRH3+qvPJvpjJolryU4ryVPo8y/oi1Cjwzjc7VCdhbbdJIBAzGt56UAXsO4wPD2Nx5HDuHMpgXv+8TSMKmMwfs9u9qRXoWJ145jvWdp5Cwtu/ncCJhjhOcMUUug6H9p6x0SkwY788XG1AqnSWQAMjM4UT/KPa8pCZxu7H9knS6s0j2yX3UM+eQ7DXvEzbffUhcyQHZDA45z2fnO4tDO9XzueOl1IWLeLrzODoH5qxyrnZy2SxvxiE5iPsKCSRmO15NGmvMJFtrbrmagEx0nzlp9FPD6gbN2dcoQyA5hz6ZCc9KDJIJ7DqfwuC7soLgNgZPuzMHj1wWFSWDV60lN6U6vLUvlDvXVnFMWJcoz+6/+fPDAcpqL7buG8WePudn32B1Asna3QZctS8ff6Npde6hVmjY939qbBYj169igxiWI5Bc9wgQ3pnf9WO3sLA4iy41kNh90N5ypa97GJb4sXgTzxtpVpyRoL4VCCQzE0ZQRMcgi6x0emRcGF1A3zGjfC/MYkFEn+spdJ2fQJcYvdU4pnzBXOU7YQdeh2ENfnKz2GE8p7/M+bdRD6bz5u8N9QW15DJQ/AwjqO89Ywvw2i3fxsjlM4b9myxVZ6dbRCBZWrRikOw6P4FXr9uxixZuXLbvV6BzYQokYZ6z2dLUst6junbYQelvL1/CQ1tHC9rRyg3XrdNIwl7Pn65ZY4b481mPvyXIabFjiAsFR5WtO/XIX7vfIyrbaobrRHe871kMiQZw6aw9uekEax1/o9c32Wmn8/bxu7H9Qs4nkIRNpwQB83UYJ2ZzSA0YAUo77FXq3qCltogw3m/msQ89EmXWI9aETGcJJBn0PmfmJYFlqiw8oks3dl4SnciM1RIy3zunrD6zdwuTvb1Jl/9qRyDxrOJxVvZ4Vrb48howmWwKIv7freN+495/LNA/8dh3FWnWWeMoYWUBR86fw4aBCRyxNAFzbBVON/DkqYnqrQyBxOx4Or/vHcOwbMVIX7U7jPJ3Dkjr0z0aL5AsW1OFoXUkbeeqO+M5pM5cxNbHw+9h9Btuyb/lJJtGAqJWkPx6Bl2n8gPuKIHEe4pN6Xr2Ci92eui4AQ5Pvm0ugQMHy6CVgBM8ALK+V0AgUStXXEYDuHbK/5EJK2pkflTmkALJI5fs2e2RETP+SeH7NbTeG8kc791Ym29A+QfadkmBxIltpRpka/WaY6MnXZHetaNg/+B+bttieDs9bG/NE6FXBM8CnQsKJLX3cWEHu507gN/62O1A+5KtNbJFpNQJM2HvxXSFhY7jycKfsdyiKRu/X2vlv6vqtxuD6eWv2KvAh7rVOMAZsPtXejuD++R+lc5+zYstEjadkYfifX5bMAgSSJK93rysf1Mm9tJI6Gvb3y2ZzhJIzO/Z113eJ4H4Mujt9N5nmbVy3lz14fvcun9+vtf2y/XmsCdgdY5bBvnfk88SVwBEKJAIP63MfyR5L9A/8Vy7ijT2mG4RR8y+l7NifuH6SOHy9+sGDeh/esqgyP2rE0h2H7RXAlj7rZ3Zcvldz5aXHjiHzWil6VzDDDLy0u+t6017VpEorcQ63rdvGI9tLH2NcvNQ6bNG9b1Hzkx744ekU278EGcFSXGB5BfYcnkW190thk6xKWHDPrUhLzZNrQWS169iJAcspK8GrAoJ6NQHPqukKz3w0kLMVLLA7HbA/YoYalR1y+uw3JuBgTDbSvLyeVRiWwHePa8D6P619POm7RVuHhuqgZ2aHQpusSncCfLUQ/Q2V86gesWqJaz8+rW8vMrWmk1/Ec3gtJz8MC3LvBYM5PnLGttgLe8XjUAStBoiAUv08AsDlvCRLwoECyQh0mkRwzs+WL7tLHqvZN0YHU7POIxAssyJJbLnz9U1gwWSvHQFBBK7HPKFk2UBZREm3wWv5ykLCiS1tBvPtc2+SiFfUEUa76S3auOdAzAKTFCr/AVPkKlrNM9reIHkpyexIeAIH/dB7c6oEhDyX92tE6qQ6vFavaPtxuZ+e49c/jPZ76THRrE5KqGkmZTPvQPYpOKHvJvybLEpJpCsG7OC1VhHcT7iCRikBBJnBYkZA0QMuJYCSVFx5DDWHT6NDa+rIKyOgVYokFAcaR4HVw8fw3uUX99W45oXpNURNN46lzeYtcq4QGMe3FBLnooLJMXt9Bd45OhprP+Zb2WKmQfHP/iDtHbddE/ICvOczZamFXguZ4D5vS7g/g8ueZiSrTWf+swSt3ZcplhRDkvNnLYV7DZsHiPZYuM/ZMHXgffEvHBWhrgrTWwRIlggAUqm84gCStA4hRMZYP7aJDpfUIc92Ctawggkm60YKaagESyQ5KUrIJDYK0jm0POEyp/zul82l5siULh8N9MKEm6xKbzC1WODZn+mTBFlhQqn8ZrZ//MJJCV1A/O7zfd7eIHE6gzexvAZs8NorwSwt9jYHcoNR0/D/RnDYFYCfo4FiiueiipUOVW+X1UMEsPJLd82jB4j6rLP10ICJR1K7PPta/Q5HuN6hVaVSH7rUS7B9ziOrpu3sXDTDaYq6TwDkEDRwLtSyBXNXODt7SpKIDkI66SHEjFIrFlmSWMw4L1O8ADIur+pYKqzuhfM1U1u3u7b7cREedcbb0QJPUcGzbTye/B9rTItKsT4r8O/gzlkubR9uVgBvnxHYjvb+/yCgy4LJUioYNCWX3Bs1zyyW/uLauzU9mkLbzvBqZ1rbrsucbecLTa77dhL3uWkTpuoxN8wz9lsaXT5Na8dljtQ/f1/u4SHvzZtta3cWkNRpFx+WiG99pMtYL+l8hpFkNa1b8iWj5x1Ssz6zn64P6dwSE6z8cTzCBtbJGy6gL6/2p5jbp3pOIuhDBAkkEQbg8QUVpy8hY1BEjbfSmTyHKN8DD2pHNJnhp2xUX1WkDBIa+0FkvvUit5xIyirs8VG7w4oqRs0bx9DfFR4gWS3c/JHLoO+X53DhqMjztGq3iCtXsfnHTh7P6tPwVR1ik2QoNHRi62vTGLoRt7+EWv/Xc+TAY4x6DoF3mv0KTZ2ANPbuD5ln2KTdwJNCIFk06R9+sPEWxPYNnAZ3dftk2WsgYVqvJ3rqFNsto3czDvFZsV5+4wz+0Sdc3h+wgmcqoO9Bg+AvALJSXSlbwNLGfSdMsU7+3e1wmXFOQkQq07DMU7VmfOKJjbDwfe9Twkxi7PY9ab/XgHxXFRZ8LWBomB9/FAjfF9z3zOJI2Jw2VvoFrs8dRXD1t/26S9W3gffwsi7GbyqBUrVBjlBwY6ew64pO3Dq9atBp1ZVZ6ebnFNs7NO6TmPbZdv/6CCtIh6/JUG4FjFyecRqE7vetv92RdUQzymxV0qVRV3TNL9NlDtg/dE+YOu/eRb/4zsbwK01FEjK5acV0je3vy/Pp1R/zG+vHdQ0M42nA/raSjwxT4/xnk5zCokzYU6xKZwubxJUxTScncGel47j6VcmkRQNRyKLDBmBW1Ug02wGJ5xTbOzTboDAU2xKpSuwgmTZ6kKn2ADjbxin2ITOd/4pNna+szj0oorbWB+BJLbH/JpjiSpWh3h8ScHrOKcKYtHaLeAGaVWHtIjNqz5bObpBeb7Ck1fz+SP4vQyB5CDu++k5SxRZWHLWT2T9R/r4H6zxAsndHS9Vvaojz9E5Dnf544PouWadTesUCDB/5lRV95P81rLCS1/7MLbIQEA9lhxtWW4Mkr2nsevtRShOFuZmsGPiljWQOHLSZeSR87PufeR4qAk5UtjcinUSO6Yy+jpYuIXuSdm+o1aiBA+AvAKJnUZXkO8Xd6vQYWw4N4MJpXvJc998C1t0PB033wVXkDiij+8Wzp/mc5nX4u+lmWQZtWUZvT7hnIRmm8jCuzexyzr9zKlv61Sr2xg+Z6xa9LdBOREnzuFzgY1hsH9QgaZL26nEUjJ94SImpsZ88YtOYpecbqPaxMUFDJ43ZlQkX6WesxnTBJZn89hhuQPWqweeBf76DuvnhT/+W26t4daatmOgndqIe7aoAXWFE47O6gjPNhpTKHG233j7633YPjSn44PMp6bQI8fwelaaSH7CpsvP+6rEJMYdUQQ5OV43iUMyD3ht1Dgh0xYRxgdGkbTnCIGcHD98CqvMZ3CElJLpCgok7rPo/n5W8nTcyIv9DOHyncCyjuOQo33n1fhhNo3elw2xxcmzVxCKPkir8NNO9lDRsxQUNox2vNo0MtYz+z8yRjtu9NekH+Hvs5XUDYz8NbgfUp5A0uDMVgLJPZt+UqFgcRy9qRzmM85PahKbPc7JcX5KXVW97dmp4HRB3w14T/JbyXO23ncOY4VPfLCPjVpA39HmMZDWK1eWHeuMDJCB9mbg70/NYNMbl0L/9PzoCS2QdH/3ydDfK+ceTBu+PlhW0ZaV2EM7+bz3vlD9dvVCE5vN/35wbJH8fIdNly/U5F+rvdIIP+1kD3yWxvRn2l4gec8zPRUKJN3Yc02pHvKaQfD2mWEr8JJOmac2l+d4JL9xMIbPX7iFhVwGgyOyNP001BabhZtXsa4Fhbg41BmfsTFOmuXOcicD1TPw1I6vQn5YltWXJcuQZVhrBqKIQ9KaQkBY4SNsuvLGIK1ZZu4zMv4IfVNUvqntBZL7dh1ApSfZ2PsUtfQBzE5j53OGst3Rj+3n1Z4MJ92lsxUKMgkrn5LfqCq3ua9zEjsmzeXrxba00OCbuy5ZP6wfMkAGyAAZIANkIBoGqt5mE7BCuzUG/2GFj7DpXPGgNZ6/uvxye0009kc/VlaQ1tYt9MoDPjlBhwyNRP0679NF7PfNo7HKN3IGFmpdxuhMWHdkgAyQATJABsgAGYiAgV0HEMlxvy0rlJQ/hoiDAFLsGa3jfWMzyRyBjXG1ftEFCe2/gmT3QVS+zcYNOqSEkcKvWQy9YgYjKt+5xWV7DTsPdGxkgAyQATJABsgAGSADhRiI7yqS8scPxYSDuHzG1SP0JYV8SSXvx0IgkYK56ytdlW99WZ3Aqh0XcWgsg7Rv5ch8Jovk0EVsfby6qNuSv0oqkN+hQyADZIAMkAEyQAbIABloNwbuevRHVfXd4yIOxP05hZN2Y5/P01h/HhuB5N6nX2lqJyv5ozE01hhY/ix/MkAGyAAZIANkgAw0BwPWiTZruKIi7gJI0edfkwBPrmkOe20nvxkbgUQq7e6Ol5pSJJF8tRNUfBY6KjJABsgAGSADZIAMkIFqGWj2Cc6ig3fGQKn5uIsTzPQx1fqYoO/HSiB57/ZXKz7RpmYOUJTP7a9SIGGwIDJABsgAGSADZIAMkAEy4GPg3m/urflAu2b9fIokNas74SJocMv3KJpUy0CsBBIprHu/1VxOVvJTbSXy+3QEZIAMkAEyQAbIABkgA+3KgLWShNttaiY2tJRAtCYBrhyhr6ulr4udQCKFec+mnzSFg5F81LJyeW06DzJABsgAGSADZIAMkIF2YEBiTTBwa7xjskj9M+YI/Vmt/VksBRIp1N/Y+HJDRRK5f60rl9enAyEDZIAMkAEyQAbIABloJwbkSNc7v7C7of34llpx0QbbfKS+eZQv/Vi9/FhsBRIp4EatJOHKERp4vQyc9yFrZIAMkAEyQAbIQNsxsOuANWC+68tdFEraQAApJDhJ/VrCyK4DnFj2xeZpO5tuoueLtUAiYFkxSeq1p1H2zDHmCB1cEzkAOld2mskAGSADZIAMkIFWZkC2XMgg+u6v/hgyoLZWl9Srb9/G4kQh0aIm769JWPUm9Sf1KPXJrTT0S43yS7EXSKTg5RSZWh8BLNfnaTU09EYZOu9L9sgAGSADZIAMkAEyQAbIABkgA8UZoEBizOZLROS7vhLtUj25HiMtF4eQRsryIQNkgAyQATJABsgAGSADZIAMkIFGM0CBxBBIVGW855kea3nXskqX561JWN+X66hr8pXGTgbIABkgA2SADJABMkAGyAAZIANkoHkZoEASIJBoYHcdgIgcElRVtsjc+aUf4s61u6GFE9kvt3a39b58LuksUYSBhCgMFeOKn5EPMkAGyAAZIANkgAyQATJABshA0zFAgYRQNh2UWqBi3bBuyAAZIANkgAyQATJABsgAGSADZKBODFAgqVNBc9DfvMuoWDesGzJABsgAGSADZIAMkAEyQAbIABmgQEKBhGokGSADZIAMkAEyQAbIABkgA2SADJCB2DNAgYRGEHsjoFJMpZgMkAEyQAbIABkgA2SADJABMkAGKJBQIKFAQgbIABkgA2SADJABMkAGyAAZIANkIPYMUCChEcTeCKgUUykmA2SADJABMkAGyAAZIANkgAyQAQokFEgokJABMkAGyAAZIANkgAyQATJABsgAGYg9AxRIaASxNwIqxVSKyQAZIANkgAyQATJABsgAGSADZIACCQUSCiRkgAyQATJABsgAGSADZIAMkAEyQAZizwAFEhpB7I2ASjGVYjJABsgAGSADZIAMkAEyQAbIABmgQEKBhAIJGSADZIAMkAEyQAbIABkgA2SADJCB2DNAgYRGEHsjoFJMpZgMkAEyQAbIABkgA2SADJABMkAG7hi98hb4wzIgA2SADJABMkAGyAAZIANkgAyQATJABuLMwB3gP5YAS4AlwBJgCbAEWAIsAZYAS4AlwBJgCbAEWAIxL4H/D77vnhVBW4ujAAAAAElFTkSuQmCC)"
      ]
    },
    {
      "cell_type": "markdown",
      "metadata": {
        "id": "8mGbr599I5D-"
      },
      "source": [
        "Competition Link: https://datahack.analyticsvidhya.com/contest/practice-problem-loan-prediction-iii\n",
        "\n",
        "Rank Scored: 54 out of 65683 participants."
      ]
    }
  ]
}